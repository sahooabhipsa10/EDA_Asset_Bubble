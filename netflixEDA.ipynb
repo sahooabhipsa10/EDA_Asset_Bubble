{
  "metadata": {
    "kernelspec": {
      "language": "python",
      "display_name": "Python 3",
      "name": "python3"
    },
    "language_info": {
      "pygments_lexer": "ipython3",
      "nbconvert_exporter": "python",
      "version": "3.6.4",
      "file_extension": ".py",
      "codemirror_mode": {
        "name": "ipython",
        "version": 3
      },
      "name": "python",
      "mimetype": "text/x-python"
    },
    "colab": {
      "provenance": [],
      "include_colab_link": true
    }
  },
  "nbformat_minor": 0,
  "nbformat": 4,
  "cells": [
    {
      "cell_type": "markdown",
      "metadata": {
        "id": "view-in-github",
        "colab_type": "text"
      },
      "source": [
        "<a href=\"https://colab.research.google.com/github/sahooabhipsa10/18CSE301J_RA2011003010346/blob/main/netflixEDA.ipynb\" target=\"_parent\"><img src=\"https://colab.research.google.com/assets/colab-badge.svg\" alt=\"Open In Colab\"/></a>"
      ]
    },
    {
      "cell_type": "code",
      "source": [
        "from google.colab import drive\n",
        "drive.mount('/content/drive')"
      ],
      "metadata": {
        "colab": {
          "base_uri": "https://localhost:8080/"
        },
        "id": "uFf3J0fMxITM",
        "outputId": "94f9e0ec-3c06-4936-d7f4-6f1e8361aae6"
      },
      "execution_count": 4,
      "outputs": [
        {
          "output_type": "stream",
          "name": "stdout",
          "text": [
            "Drive already mounted at /content/drive; to attempt to forcibly remount, call drive.mount(\"/content/drive\", force_remount=True).\n"
          ]
        }
      ]
    },
    {
      "cell_type": "code",
      "source": [
        "import numpy as np\n",
        "import pandas as pd\n",
        "import matplotlib.pyplot as plt #for plot graph visualizaion\n",
        "import seaborn as sns\n",
        "%matplotlib inline"
      ],
      "metadata": {
        "execution": {
          "iopub.status.busy": "2023-03-09T02:52:40.910738Z",
          "iopub.execute_input": "2023-03-09T02:52:40.912153Z",
          "iopub.status.idle": "2023-03-09T02:52:40.922346Z",
          "shell.execute_reply.started": "2023-03-09T02:52:40.912095Z",
          "shell.execute_reply": "2023-03-09T02:52:40.921231Z"
        },
        "trusted": true,
        "id": "Kk-Cp8rEsqXM"
      },
      "execution_count": 5,
      "outputs": []
    },
    {
      "cell_type": "code",
      "source": [
        "raw = pd.read_csv(\"/content/drive/MyDrive/netflixEDA/netflix_titles.csv\")"
      ],
      "metadata": {
        "execution": {
          "iopub.status.busy": "2023-03-09T02:52:40.924599Z",
          "iopub.execute_input": "2023-03-09T02:52:40.92542Z",
          "iopub.status.idle": "2023-03-09T02:52:41.061529Z",
          "shell.execute_reply.started": "2023-03-09T02:52:40.925349Z",
          "shell.execute_reply": "2023-03-09T02:52:41.060347Z"
        },
        "trusted": true,
        "id": "ndUXfM2wsqXN"
      },
      "execution_count": 6,
      "outputs": []
    },
    {
      "cell_type": "code",
      "source": [
        "raw.head()"
      ],
      "metadata": {
        "execution": {
          "iopub.status.busy": "2023-03-09T02:52:41.063603Z",
          "iopub.execute_input": "2023-03-09T02:52:41.063977Z",
          "iopub.status.idle": "2023-03-09T02:52:41.102692Z",
          "shell.execute_reply.started": "2023-03-09T02:52:41.063942Z",
          "shell.execute_reply": "2023-03-09T02:52:41.101318Z"
        },
        "trusted": true,
        "id": "GSP7eESGsqXO",
        "colab": {
          "base_uri": "https://localhost:8080/",
          "height": 545
        },
        "outputId": "106370b8-7209-49ab-e584-de64d0b2b672"
      },
      "execution_count": 7,
      "outputs": [
        {
          "output_type": "execute_result",
          "data": {
            "text/plain": [
              "    show_id     type                                    title  \\\n",
              "0  81145628    Movie  Norm of the North: King Sized Adventure   \n",
              "1  80117401    Movie               Jandino: Whatever it Takes   \n",
              "2  70234439  TV Show                       Transformers Prime   \n",
              "3  80058654  TV Show         Transformers: Robots in Disguise   \n",
              "4  80125979    Movie                             #realityhigh   \n",
              "\n",
              "                   director  \\\n",
              "0  Richard Finn, Tim Maltby   \n",
              "1                       NaN   \n",
              "2                       NaN   \n",
              "3                       NaN   \n",
              "4          Fernando Lebrija   \n",
              "\n",
              "                                                cast  \\\n",
              "0  Alan Marriott, Andrew Toth, Brian Dobson, Cole...   \n",
              "1                                   Jandino Asporaat   \n",
              "2  Peter Cullen, Sumalee Montano, Frank Welker, J...   \n",
              "3  Will Friedle, Darren Criss, Constance Zimmer, ...   \n",
              "4  Nesta Cooper, Kate Walsh, John Michael Higgins...   \n",
              "\n",
              "                                    country         date_added  release_year  \\\n",
              "0  United States, India, South Korea, China  September 9, 2019          2019   \n",
              "1                            United Kingdom  September 9, 2016          2016   \n",
              "2                             United States  September 8, 2018          2013   \n",
              "3                             United States  September 8, 2018          2016   \n",
              "4                             United States  September 8, 2017          2017   \n",
              "\n",
              "     rating  duration                           listed_in  \\\n",
              "0     TV-PG    90 min  Children & Family Movies, Comedies   \n",
              "1     TV-MA    94 min                     Stand-Up Comedy   \n",
              "2  TV-Y7-FV  1 Season                            Kids' TV   \n",
              "3     TV-Y7  1 Season                            Kids' TV   \n",
              "4     TV-14    99 min                            Comedies   \n",
              "\n",
              "                                         description  \n",
              "0  Before planning an awesome wedding for his gra...  \n",
              "1  Jandino Asporaat riffs on the challenges of ra...  \n",
              "2  With the help of three human allies, the Autob...  \n",
              "3  When a prison ship crash unleashes hundreds of...  \n",
              "4  When nerdy high schooler Dani finally attracts...  "
            ],
            "text/html": [
              "\n",
              "  <div id=\"df-cad4f921-c904-423d-a4d1-0226f00e3af3\">\n",
              "    <div class=\"colab-df-container\">\n",
              "      <div>\n",
              "<style scoped>\n",
              "    .dataframe tbody tr th:only-of-type {\n",
              "        vertical-align: middle;\n",
              "    }\n",
              "\n",
              "    .dataframe tbody tr th {\n",
              "        vertical-align: top;\n",
              "    }\n",
              "\n",
              "    .dataframe thead th {\n",
              "        text-align: right;\n",
              "    }\n",
              "</style>\n",
              "<table border=\"1\" class=\"dataframe\">\n",
              "  <thead>\n",
              "    <tr style=\"text-align: right;\">\n",
              "      <th></th>\n",
              "      <th>show_id</th>\n",
              "      <th>type</th>\n",
              "      <th>title</th>\n",
              "      <th>director</th>\n",
              "      <th>cast</th>\n",
              "      <th>country</th>\n",
              "      <th>date_added</th>\n",
              "      <th>release_year</th>\n",
              "      <th>rating</th>\n",
              "      <th>duration</th>\n",
              "      <th>listed_in</th>\n",
              "      <th>description</th>\n",
              "    </tr>\n",
              "  </thead>\n",
              "  <tbody>\n",
              "    <tr>\n",
              "      <th>0</th>\n",
              "      <td>81145628</td>\n",
              "      <td>Movie</td>\n",
              "      <td>Norm of the North: King Sized Adventure</td>\n",
              "      <td>Richard Finn, Tim Maltby</td>\n",
              "      <td>Alan Marriott, Andrew Toth, Brian Dobson, Cole...</td>\n",
              "      <td>United States, India, South Korea, China</td>\n",
              "      <td>September 9, 2019</td>\n",
              "      <td>2019</td>\n",
              "      <td>TV-PG</td>\n",
              "      <td>90 min</td>\n",
              "      <td>Children &amp; Family Movies, Comedies</td>\n",
              "      <td>Before planning an awesome wedding for his gra...</td>\n",
              "    </tr>\n",
              "    <tr>\n",
              "      <th>1</th>\n",
              "      <td>80117401</td>\n",
              "      <td>Movie</td>\n",
              "      <td>Jandino: Whatever it Takes</td>\n",
              "      <td>NaN</td>\n",
              "      <td>Jandino Asporaat</td>\n",
              "      <td>United Kingdom</td>\n",
              "      <td>September 9, 2016</td>\n",
              "      <td>2016</td>\n",
              "      <td>TV-MA</td>\n",
              "      <td>94 min</td>\n",
              "      <td>Stand-Up Comedy</td>\n",
              "      <td>Jandino Asporaat riffs on the challenges of ra...</td>\n",
              "    </tr>\n",
              "    <tr>\n",
              "      <th>2</th>\n",
              "      <td>70234439</td>\n",
              "      <td>TV Show</td>\n",
              "      <td>Transformers Prime</td>\n",
              "      <td>NaN</td>\n",
              "      <td>Peter Cullen, Sumalee Montano, Frank Welker, J...</td>\n",
              "      <td>United States</td>\n",
              "      <td>September 8, 2018</td>\n",
              "      <td>2013</td>\n",
              "      <td>TV-Y7-FV</td>\n",
              "      <td>1 Season</td>\n",
              "      <td>Kids' TV</td>\n",
              "      <td>With the help of three human allies, the Autob...</td>\n",
              "    </tr>\n",
              "    <tr>\n",
              "      <th>3</th>\n",
              "      <td>80058654</td>\n",
              "      <td>TV Show</td>\n",
              "      <td>Transformers: Robots in Disguise</td>\n",
              "      <td>NaN</td>\n",
              "      <td>Will Friedle, Darren Criss, Constance Zimmer, ...</td>\n",
              "      <td>United States</td>\n",
              "      <td>September 8, 2018</td>\n",
              "      <td>2016</td>\n",
              "      <td>TV-Y7</td>\n",
              "      <td>1 Season</td>\n",
              "      <td>Kids' TV</td>\n",
              "      <td>When a prison ship crash unleashes hundreds of...</td>\n",
              "    </tr>\n",
              "    <tr>\n",
              "      <th>4</th>\n",
              "      <td>80125979</td>\n",
              "      <td>Movie</td>\n",
              "      <td>#realityhigh</td>\n",
              "      <td>Fernando Lebrija</td>\n",
              "      <td>Nesta Cooper, Kate Walsh, John Michael Higgins...</td>\n",
              "      <td>United States</td>\n",
              "      <td>September 8, 2017</td>\n",
              "      <td>2017</td>\n",
              "      <td>TV-14</td>\n",
              "      <td>99 min</td>\n",
              "      <td>Comedies</td>\n",
              "      <td>When nerdy high schooler Dani finally attracts...</td>\n",
              "    </tr>\n",
              "  </tbody>\n",
              "</table>\n",
              "</div>\n",
              "      <button class=\"colab-df-convert\" onclick=\"convertToInteractive('df-cad4f921-c904-423d-a4d1-0226f00e3af3')\"\n",
              "              title=\"Convert this dataframe to an interactive table.\"\n",
              "              style=\"display:none;\">\n",
              "        \n",
              "  <svg xmlns=\"http://www.w3.org/2000/svg\" height=\"24px\"viewBox=\"0 0 24 24\"\n",
              "       width=\"24px\">\n",
              "    <path d=\"M0 0h24v24H0V0z\" fill=\"none\"/>\n",
              "    <path d=\"M18.56 5.44l.94 2.06.94-2.06 2.06-.94-2.06-.94-.94-2.06-.94 2.06-2.06.94zm-11 1L8.5 8.5l.94-2.06 2.06-.94-2.06-.94L8.5 2.5l-.94 2.06-2.06.94zm10 10l.94 2.06.94-2.06 2.06-.94-2.06-.94-.94-2.06-.94 2.06-2.06.94z\"/><path d=\"M17.41 7.96l-1.37-1.37c-.4-.4-.92-.59-1.43-.59-.52 0-1.04.2-1.43.59L10.3 9.45l-7.72 7.72c-.78.78-.78 2.05 0 2.83L4 21.41c.39.39.9.59 1.41.59.51 0 1.02-.2 1.41-.59l7.78-7.78 2.81-2.81c.8-.78.8-2.07 0-2.86zM5.41 20L4 18.59l7.72-7.72 1.47 1.35L5.41 20z\"/>\n",
              "  </svg>\n",
              "      </button>\n",
              "      \n",
              "  <style>\n",
              "    .colab-df-container {\n",
              "      display:flex;\n",
              "      flex-wrap:wrap;\n",
              "      gap: 12px;\n",
              "    }\n",
              "\n",
              "    .colab-df-convert {\n",
              "      background-color: #E8F0FE;\n",
              "      border: none;\n",
              "      border-radius: 50%;\n",
              "      cursor: pointer;\n",
              "      display: none;\n",
              "      fill: #1967D2;\n",
              "      height: 32px;\n",
              "      padding: 0 0 0 0;\n",
              "      width: 32px;\n",
              "    }\n",
              "\n",
              "    .colab-df-convert:hover {\n",
              "      background-color: #E2EBFA;\n",
              "      box-shadow: 0px 1px 2px rgba(60, 64, 67, 0.3), 0px 1px 3px 1px rgba(60, 64, 67, 0.15);\n",
              "      fill: #174EA6;\n",
              "    }\n",
              "\n",
              "    [theme=dark] .colab-df-convert {\n",
              "      background-color: #3B4455;\n",
              "      fill: #D2E3FC;\n",
              "    }\n",
              "\n",
              "    [theme=dark] .colab-df-convert:hover {\n",
              "      background-color: #434B5C;\n",
              "      box-shadow: 0px 1px 3px 1px rgba(0, 0, 0, 0.15);\n",
              "      filter: drop-shadow(0px 1px 2px rgba(0, 0, 0, 0.3));\n",
              "      fill: #FFFFFF;\n",
              "    }\n",
              "  </style>\n",
              "\n",
              "      <script>\n",
              "        const buttonEl =\n",
              "          document.querySelector('#df-cad4f921-c904-423d-a4d1-0226f00e3af3 button.colab-df-convert');\n",
              "        buttonEl.style.display =\n",
              "          google.colab.kernel.accessAllowed ? 'block' : 'none';\n",
              "\n",
              "        async function convertToInteractive(key) {\n",
              "          const element = document.querySelector('#df-cad4f921-c904-423d-a4d1-0226f00e3af3');\n",
              "          const dataTable =\n",
              "            await google.colab.kernel.invokeFunction('convertToInteractive',\n",
              "                                                     [key], {});\n",
              "          if (!dataTable) return;\n",
              "\n",
              "          const docLinkHtml = 'Like what you see? Visit the ' +\n",
              "            '<a target=\"_blank\" href=https://colab.research.google.com/notebooks/data_table.ipynb>data table notebook</a>'\n",
              "            + ' to learn more about interactive tables.';\n",
              "          element.innerHTML = '';\n",
              "          dataTable['output_type'] = 'display_data';\n",
              "          await google.colab.output.renderOutput(dataTable, element);\n",
              "          const docLink = document.createElement('div');\n",
              "          docLink.innerHTML = docLinkHtml;\n",
              "          element.appendChild(docLink);\n",
              "        }\n",
              "      </script>\n",
              "    </div>\n",
              "  </div>\n",
              "  "
            ]
          },
          "metadata": {},
          "execution_count": 7
        }
      ]
    },
    {
      "cell_type": "code",
      "source": [
        "raw.shape"
      ],
      "metadata": {
        "execution": {
          "iopub.status.busy": "2023-03-09T02:52:41.104441Z",
          "iopub.execute_input": "2023-03-09T02:52:41.105482Z",
          "iopub.status.idle": "2023-03-09T02:52:41.112131Z",
          "shell.execute_reply.started": "2023-03-09T02:52:41.105438Z",
          "shell.execute_reply": "2023-03-09T02:52:41.110766Z"
        },
        "trusted": true,
        "id": "QH02GBm0sqXP",
        "colab": {
          "base_uri": "https://localhost:8080/"
        },
        "outputId": "e190e3f2-3ef7-42ba-ed62-13a8d3f0e469"
      },
      "execution_count": 8,
      "outputs": [
        {
          "output_type": "execute_result",
          "data": {
            "text/plain": [
              "(6234, 12)"
            ]
          },
          "metadata": {},
          "execution_count": 8
        }
      ]
    },
    {
      "cell_type": "code",
      "source": [
        "raw_col = raw.columns\n",
        "print(raw_col,\"\\n\")\n",
        "\n",
        "raw_data_info = raw.info()"
      ],
      "metadata": {
        "execution": {
          "iopub.status.busy": "2023-03-09T02:52:41.114985Z",
          "iopub.execute_input": "2023-03-09T02:52:41.11546Z",
          "iopub.status.idle": "2023-03-09T02:52:41.147255Z",
          "shell.execute_reply.started": "2023-03-09T02:52:41.115414Z",
          "shell.execute_reply": "2023-03-09T02:52:41.14573Z"
        },
        "trusted": true,
        "id": "J9sD1ghlsqXQ",
        "colab": {
          "base_uri": "https://localhost:8080/"
        },
        "outputId": "b1a0361a-a4e7-46ed-9b5c-86864f366a44"
      },
      "execution_count": 10,
      "outputs": [
        {
          "output_type": "stream",
          "name": "stdout",
          "text": [
            "Index(['show_id', 'type', 'title', 'director', 'cast', 'country', 'date_added',\n",
            "       'release_year', 'rating', 'duration', 'listed_in', 'description'],\n",
            "      dtype='object') \n",
            "\n",
            "<class 'pandas.core.frame.DataFrame'>\n",
            "RangeIndex: 6234 entries, 0 to 6233\n",
            "Data columns (total 12 columns):\n",
            " #   Column        Non-Null Count  Dtype \n",
            "---  ------        --------------  ----- \n",
            " 0   show_id       6234 non-null   int64 \n",
            " 1   type          6234 non-null   object\n",
            " 2   title         6234 non-null   object\n",
            " 3   director      4265 non-null   object\n",
            " 4   cast          5664 non-null   object\n",
            " 5   country       5758 non-null   object\n",
            " 6   date_added    6223 non-null   object\n",
            " 7   release_year  6234 non-null   int64 \n",
            " 8   rating        6224 non-null   object\n",
            " 9   duration      6234 non-null   object\n",
            " 10  listed_in     6234 non-null   object\n",
            " 11  description   6234 non-null   object\n",
            "dtypes: int64(2), object(10)\n",
            "memory usage: 584.6+ KB\n"
          ]
        }
      ]
    },
    {
      "cell_type": "code",
      "source": [
        "#Check Duplicated Records\n",
        "raw[raw.duplicated()]"
      ],
      "metadata": {
        "execution": {
          "iopub.status.busy": "2023-03-09T02:52:41.148975Z",
          "iopub.execute_input": "2023-03-09T02:52:41.149845Z",
          "iopub.status.idle": "2023-03-09T02:52:41.189723Z",
          "shell.execute_reply.started": "2023-03-09T02:52:41.149776Z",
          "shell.execute_reply": "2023-03-09T02:52:41.188504Z"
        },
        "trusted": true,
        "id": "TQ4pfj2-sqXR",
        "colab": {
          "base_uri": "https://localhost:8080/",
          "height": 49
        },
        "outputId": "92064ac7-c11f-4a8d-9e00-80dfdf914088"
      },
      "execution_count": 11,
      "outputs": [
        {
          "output_type": "execute_result",
          "data": {
            "text/plain": [
              "Empty DataFrame\n",
              "Columns: [show_id, type, title, director, cast, country, date_added, release_year, rating, duration, listed_in, description]\n",
              "Index: []"
            ],
            "text/html": [
              "\n",
              "  <div id=\"df-817e2d84-0f15-41cf-8753-d240b21e13a2\">\n",
              "    <div class=\"colab-df-container\">\n",
              "      <div>\n",
              "<style scoped>\n",
              "    .dataframe tbody tr th:only-of-type {\n",
              "        vertical-align: middle;\n",
              "    }\n",
              "\n",
              "    .dataframe tbody tr th {\n",
              "        vertical-align: top;\n",
              "    }\n",
              "\n",
              "    .dataframe thead th {\n",
              "        text-align: right;\n",
              "    }\n",
              "</style>\n",
              "<table border=\"1\" class=\"dataframe\">\n",
              "  <thead>\n",
              "    <tr style=\"text-align: right;\">\n",
              "      <th></th>\n",
              "      <th>show_id</th>\n",
              "      <th>type</th>\n",
              "      <th>title</th>\n",
              "      <th>director</th>\n",
              "      <th>cast</th>\n",
              "      <th>country</th>\n",
              "      <th>date_added</th>\n",
              "      <th>release_year</th>\n",
              "      <th>rating</th>\n",
              "      <th>duration</th>\n",
              "      <th>listed_in</th>\n",
              "      <th>description</th>\n",
              "    </tr>\n",
              "  </thead>\n",
              "  <tbody>\n",
              "  </tbody>\n",
              "</table>\n",
              "</div>\n",
              "      <button class=\"colab-df-convert\" onclick=\"convertToInteractive('df-817e2d84-0f15-41cf-8753-d240b21e13a2')\"\n",
              "              title=\"Convert this dataframe to an interactive table.\"\n",
              "              style=\"display:none;\">\n",
              "        \n",
              "  <svg xmlns=\"http://www.w3.org/2000/svg\" height=\"24px\"viewBox=\"0 0 24 24\"\n",
              "       width=\"24px\">\n",
              "    <path d=\"M0 0h24v24H0V0z\" fill=\"none\"/>\n",
              "    <path d=\"M18.56 5.44l.94 2.06.94-2.06 2.06-.94-2.06-.94-.94-2.06-.94 2.06-2.06.94zm-11 1L8.5 8.5l.94-2.06 2.06-.94-2.06-.94L8.5 2.5l-.94 2.06-2.06.94zm10 10l.94 2.06.94-2.06 2.06-.94-2.06-.94-.94-2.06-.94 2.06-2.06.94z\"/><path d=\"M17.41 7.96l-1.37-1.37c-.4-.4-.92-.59-1.43-.59-.52 0-1.04.2-1.43.59L10.3 9.45l-7.72 7.72c-.78.78-.78 2.05 0 2.83L4 21.41c.39.39.9.59 1.41.59.51 0 1.02-.2 1.41-.59l7.78-7.78 2.81-2.81c.8-.78.8-2.07 0-2.86zM5.41 20L4 18.59l7.72-7.72 1.47 1.35L5.41 20z\"/>\n",
              "  </svg>\n",
              "      </button>\n",
              "      \n",
              "  <style>\n",
              "    .colab-df-container {\n",
              "      display:flex;\n",
              "      flex-wrap:wrap;\n",
              "      gap: 12px;\n",
              "    }\n",
              "\n",
              "    .colab-df-convert {\n",
              "      background-color: #E8F0FE;\n",
              "      border: none;\n",
              "      border-radius: 50%;\n",
              "      cursor: pointer;\n",
              "      display: none;\n",
              "      fill: #1967D2;\n",
              "      height: 32px;\n",
              "      padding: 0 0 0 0;\n",
              "      width: 32px;\n",
              "    }\n",
              "\n",
              "    .colab-df-convert:hover {\n",
              "      background-color: #E2EBFA;\n",
              "      box-shadow: 0px 1px 2px rgba(60, 64, 67, 0.3), 0px 1px 3px 1px rgba(60, 64, 67, 0.15);\n",
              "      fill: #174EA6;\n",
              "    }\n",
              "\n",
              "    [theme=dark] .colab-df-convert {\n",
              "      background-color: #3B4455;\n",
              "      fill: #D2E3FC;\n",
              "    }\n",
              "\n",
              "    [theme=dark] .colab-df-convert:hover {\n",
              "      background-color: #434B5C;\n",
              "      box-shadow: 0px 1px 3px 1px rgba(0, 0, 0, 0.15);\n",
              "      filter: drop-shadow(0px 1px 2px rgba(0, 0, 0, 0.3));\n",
              "      fill: #FFFFFF;\n",
              "    }\n",
              "  </style>\n",
              "\n",
              "      <script>\n",
              "        const buttonEl =\n",
              "          document.querySelector('#df-817e2d84-0f15-41cf-8753-d240b21e13a2 button.colab-df-convert');\n",
              "        buttonEl.style.display =\n",
              "          google.colab.kernel.accessAllowed ? 'block' : 'none';\n",
              "\n",
              "        async function convertToInteractive(key) {\n",
              "          const element = document.querySelector('#df-817e2d84-0f15-41cf-8753-d240b21e13a2');\n",
              "          const dataTable =\n",
              "            await google.colab.kernel.invokeFunction('convertToInteractive',\n",
              "                                                     [key], {});\n",
              "          if (!dataTable) return;\n",
              "\n",
              "          const docLinkHtml = 'Like what you see? Visit the ' +\n",
              "            '<a target=\"_blank\" href=https://colab.research.google.com/notebooks/data_table.ipynb>data table notebook</a>'\n",
              "            + ' to learn more about interactive tables.';\n",
              "          element.innerHTML = '';\n",
              "          dataTable['output_type'] = 'display_data';\n",
              "          await google.colab.output.renderOutput(dataTable, element);\n",
              "          const docLink = document.createElement('div');\n",
              "          docLink.innerHTML = docLinkHtml;\n",
              "          element.appendChild(docLink);\n",
              "        }\n",
              "      </script>\n",
              "    </div>\n",
              "  </div>\n",
              "  "
            ]
          },
          "metadata": {},
          "execution_count": 11
        }
      ]
    },
    {
      "cell_type": "code",
      "source": [
        "#Check Missing Values\n",
        "missing_value_df = raw.isnull().sum()\n",
        "print(missing_value_df)"
      ],
      "metadata": {
        "execution": {
          "iopub.status.busy": "2023-03-09T02:52:41.191163Z",
          "iopub.execute_input": "2023-03-09T02:52:41.192137Z",
          "iopub.status.idle": "2023-03-09T02:52:41.206106Z",
          "shell.execute_reply.started": "2023-03-09T02:52:41.192093Z",
          "shell.execute_reply": "2023-03-09T02:52:41.204638Z"
        },
        "trusted": true,
        "colab": {
          "base_uri": "https://localhost:8080/"
        },
        "id": "XUsmwVWssqXR",
        "outputId": "cfd9eab6-1ed8-4f53-f8aa-a5f1c70f80b5"
      },
      "execution_count": 12,
      "outputs": [
        {
          "output_type": "stream",
          "name": "stdout",
          "text": [
            "show_id            0\n",
            "type               0\n",
            "title              0\n",
            "director        1969\n",
            "cast             570\n",
            "country          476\n",
            "date_added        11\n",
            "release_year       0\n",
            "rating            10\n",
            "duration           0\n",
            "listed_in          0\n",
            "description        0\n",
            "dtype: int64\n"
          ]
        }
      ]
    },
    {
      "cell_type": "code",
      "source": [
        "#Print Missing Value As Percentage / Column\n",
        "raw_percent_missing_value = 100*(missing_value_df / len(raw.index))\n",
        "percent_missing_value = round(raw_percent_missing_value,2)\n",
        "print(percent_missing_value.sort_values(ascending=False))"
      ],
      "metadata": {
        "execution": {
          "iopub.status.busy": "2023-03-09T02:52:41.207911Z",
          "iopub.execute_input": "2023-03-09T02:52:41.208407Z",
          "iopub.status.idle": "2023-03-09T02:52:41.221066Z",
          "shell.execute_reply.started": "2023-03-09T02:52:41.20834Z",
          "shell.execute_reply": "2023-03-09T02:52:41.219791Z"
        },
        "trusted": true,
        "id": "9o14rcDWsqXS",
        "colab": {
          "base_uri": "https://localhost:8080/"
        },
        "outputId": "1219eaef-ccfe-4161-e00e-39341b76228c"
      },
      "execution_count": 14,
      "outputs": [
        {
          "output_type": "stream",
          "name": "stdout",
          "text": [
            "director        31.58\n",
            "cast             9.14\n",
            "country          7.64\n",
            "date_added       0.18\n",
            "rating           0.16\n",
            "show_id          0.00\n",
            "type             0.00\n",
            "title            0.00\n",
            "release_year     0.00\n",
            "duration         0.00\n",
            "listed_in        0.00\n",
            "description      0.00\n",
            "dtype: float64\n"
          ]
        }
      ]
    },
    {
      "cell_type": "code",
      "source": [
        "#Visualizing missing values\n",
        "percent_missing_value.plot(kind='barh')\n",
        "plt.figure(figsize=(10,6))\n",
        "sns.displot(\n",
        "    data=raw.isna().melt(value_name=\"missing\"),\n",
        "    y=\"variable\",\n",
        "    hue=\"missing\",\n",
        "    palette=\"Pastel1\",\n",
        "    multiple=\"fill\",\n",
        "    aspect=1.25)"
      ],
      "metadata": {
        "execution": {
          "iopub.status.busy": "2023-03-09T02:52:41.222657Z",
          "iopub.execute_input": "2023-03-09T02:52:41.223131Z",
          "iopub.status.idle": "2023-03-09T02:52:42.329342Z",
          "shell.execute_reply.started": "2023-03-09T02:52:41.22309Z",
          "shell.execute_reply": "2023-03-09T02:52:42.328309Z"
        },
        "trusted": true,
        "id": "-zkRePU7sqXS",
        "colab": {
          "base_uri": "https://localhost:8080/",
          "height": 652
        },
        "outputId": "4598494d-18e0-40d2-9815-4d07744635c9"
      },
      "execution_count": 33,
      "outputs": [
        {
          "output_type": "execute_result",
          "data": {
            "text/plain": [
              "<seaborn.axisgrid.FacetGrid at 0x7f2b7861b2b0>"
            ]
          },
          "metadata": {},
          "execution_count": 33
        },
        {
          "output_type": "display_data",
          "data": {
            "text/plain": [
              "<Figure size 432x288 with 1 Axes>"
            ],
            "image/png": "[encoded data removed]"
          },
          "metadata": {
            "needs_background": "light"
          }
        },
        {
          "output_type": "display_data",
          "data": {
            "text/plain": [
              "<Figure size 720x432 with 0 Axes>"
            ]
          },
          "metadata": {}
        },
        {
          "output_type": "display_data",
          "data": {
            "text/plain": [
              "<Figure size 511.25x360 with 1 Axes>"
            ],
            "image/png": "[encoded data removed]"
          },
          "metadata": {
            "needs_background": "light"
          }
        }
      ]
    },
    {
      "cell_type": "code",
      "source": [
        "data = raw.copy()"
      ],
      "metadata": {
        "execution": {
          "iopub.status.busy": "2023-03-09T02:52:42.330721Z",
          "iopub.execute_input": "2023-03-09T02:52:42.33139Z",
          "iopub.status.idle": "2023-03-09T02:52:42.338711Z",
          "shell.execute_reply.started": "2023-03-09T02:52:42.331332Z",
          "shell.execute_reply": "2023-03-09T02:52:42.337456Z"
        },
        "trusted": true,
        "id": "un3gE20KsqXT"
      },
      "execution_count": 34,
      "outputs": []
    },
    {
      "cell_type": "code",
      "source": [
        "data.head()"
      ],
      "metadata": {
        "execution": {
          "iopub.status.busy": "2023-03-09T02:52:42.342641Z",
          "iopub.execute_input": "2023-03-09T02:52:42.343394Z",
          "iopub.status.idle": "2023-03-09T02:52:42.367754Z",
          "shell.execute_reply.started": "2023-03-09T02:52:42.343327Z",
          "shell.execute_reply": "2023-03-09T02:52:42.366134Z"
        },
        "trusted": true,
        "id": "wTN9ljo6sqXU",
        "colab": {
          "base_uri": "https://localhost:8080/",
          "height": 545
        },
        "outputId": "a3bf882a-c925-4893-d7f7-6d4cba5fae9e"
      },
      "execution_count": 18,
      "outputs": [
        {
          "output_type": "execute_result",
          "data": {
            "text/plain": [
              "    show_id     type                                    title  \\\n",
              "0  81145628    Movie  Norm of the North: King Sized Adventure   \n",
              "1  80117401    Movie               Jandino: Whatever it Takes   \n",
              "2  70234439  TV Show                       Transformers Prime   \n",
              "3  80058654  TV Show         Transformers: Robots in Disguise   \n",
              "4  80125979    Movie                             #realityhigh   \n",
              "\n",
              "                   director  \\\n",
              "0  Richard Finn, Tim Maltby   \n",
              "1                       NaN   \n",
              "2                       NaN   \n",
              "3                       NaN   \n",
              "4          Fernando Lebrija   \n",
              "\n",
              "                                                cast  \\\n",
              "0  Alan Marriott, Andrew Toth, Brian Dobson, Cole...   \n",
              "1                                   Jandino Asporaat   \n",
              "2  Peter Cullen, Sumalee Montano, Frank Welker, J...   \n",
              "3  Will Friedle, Darren Criss, Constance Zimmer, ...   \n",
              "4  Nesta Cooper, Kate Walsh, John Michael Higgins...   \n",
              "\n",
              "                                    country         date_added  release_year  \\\n",
              "0  United States, India, South Korea, China  September 9, 2019          2019   \n",
              "1                            United Kingdom  September 9, 2016          2016   \n",
              "2                             United States  September 8, 2018          2013   \n",
              "3                             United States  September 8, 2018          2016   \n",
              "4                             United States  September 8, 2017          2017   \n",
              "\n",
              "     rating  duration                           listed_in  \\\n",
              "0     TV-PG    90 min  Children & Family Movies, Comedies   \n",
              "1     TV-MA    94 min                     Stand-Up Comedy   \n",
              "2  TV-Y7-FV  1 Season                            Kids' TV   \n",
              "3     TV-Y7  1 Season                            Kids' TV   \n",
              "4     TV-14    99 min                            Comedies   \n",
              "\n",
              "                                         description  \n",
              "0  Before planning an awesome wedding for his gra...  \n",
              "1  Jandino Asporaat riffs on the challenges of ra...  \n",
              "2  With the help of three human allies, the Autob...  \n",
              "3  When a prison ship crash unleashes hundreds of...  \n",
              "4  When nerdy high schooler Dani finally attracts...  "
            ],
            "text/html": [
              "\n",
              "  <div id=\"df-ee14ca04-615a-4183-85a1-ae03c563905a\">\n",
              "    <div class=\"colab-df-container\">\n",
              "      <div>\n",
              "<style scoped>\n",
              "    .dataframe tbody tr th:only-of-type {\n",
              "        vertical-align: middle;\n",
              "    }\n",
              "\n",
              "    .dataframe tbody tr th {\n",
              "        vertical-align: top;\n",
              "    }\n",
              "\n",
              "    .dataframe thead th {\n",
              "        text-align: right;\n",
              "    }\n",
              "</style>\n",
              "<table border=\"1\" class=\"dataframe\">\n",
              "  <thead>\n",
              "    <tr style=\"text-align: right;\">\n",
              "      <th></th>\n",
              "      <th>show_id</th>\n",
              "      <th>type</th>\n",
              "      <th>title</th>\n",
              "      <th>director</th>\n",
              "      <th>cast</th>\n",
              "      <th>country</th>\n",
              "      <th>date_added</th>\n",
              "      <th>release_year</th>\n",
              "      <th>rating</th>\n",
              "      <th>duration</th>\n",
              "      <th>listed_in</th>\n",
              "      <th>description</th>\n",
              "    </tr>\n",
              "  </thead>\n",
              "  <tbody>\n",
              "    <tr>\n",
              "      <th>0</th>\n",
              "      <td>81145628</td>\n",
              "      <td>Movie</td>\n",
              "      <td>Norm of the North: King Sized Adventure</td>\n",
              "      <td>Richard Finn, Tim Maltby</td>\n",
              "      <td>Alan Marriott, Andrew Toth, Brian Dobson, Cole...</td>\n",
              "      <td>United States, India, South Korea, China</td>\n",
              "      <td>September 9, 2019</td>\n",
              "      <td>2019</td>\n",
              "      <td>TV-PG</td>\n",
              "      <td>90 min</td>\n",
              "      <td>Children &amp; Family Movies, Comedies</td>\n",
              "      <td>Before planning an awesome wedding for his gra...</td>\n",
              "    </tr>\n",
              "    <tr>\n",
              "      <th>1</th>\n",
              "      <td>80117401</td>\n",
              "      <td>Movie</td>\n",
              "      <td>Jandino: Whatever it Takes</td>\n",
              "      <td>NaN</td>\n",
              "      <td>Jandino Asporaat</td>\n",
              "      <td>United Kingdom</td>\n",
              "      <td>September 9, 2016</td>\n",
              "      <td>2016</td>\n",
              "      <td>TV-MA</td>\n",
              "      <td>94 min</td>\n",
              "      <td>Stand-Up Comedy</td>\n",
              "      <td>Jandino Asporaat riffs on the challenges of ra...</td>\n",
              "    </tr>\n",
              "    <tr>\n",
              "      <th>2</th>\n",
              "      <td>70234439</td>\n",
              "      <td>TV Show</td>\n",
              "      <td>Transformers Prime</td>\n",
              "      <td>NaN</td>\n",
              "      <td>Peter Cullen, Sumalee Montano, Frank Welker, J...</td>\n",
              "      <td>United States</td>\n",
              "      <td>September 8, 2018</td>\n",
              "      <td>2013</td>\n",
              "      <td>TV-Y7-FV</td>\n",
              "      <td>1 Season</td>\n",
              "      <td>Kids' TV</td>\n",
              "      <td>With the help of three human allies, the Autob...</td>\n",
              "    </tr>\n",
              "    <tr>\n",
              "      <th>3</th>\n",
              "      <td>80058654</td>\n",
              "      <td>TV Show</td>\n",
              "      <td>Transformers: Robots in Disguise</td>\n",
              "      <td>NaN</td>\n",
              "      <td>Will Friedle, Darren Criss, Constance Zimmer, ...</td>\n",
              "      <td>United States</td>\n",
              "      <td>September 8, 2018</td>\n",
              "      <td>2016</td>\n",
              "      <td>TV-Y7</td>\n",
              "      <td>1 Season</td>\n",
              "      <td>Kids' TV</td>\n",
              "      <td>When a prison ship crash unleashes hundreds of...</td>\n",
              "    </tr>\n",
              "    <tr>\n",
              "      <th>4</th>\n",
              "      <td>80125979</td>\n",
              "      <td>Movie</td>\n",
              "      <td>#realityhigh</td>\n",
              "      <td>Fernando Lebrija</td>\n",
              "      <td>Nesta Cooper, Kate Walsh, John Michael Higgins...</td>\n",
              "      <td>United States</td>\n",
              "      <td>September 8, 2017</td>\n",
              "      <td>2017</td>\n",
              "      <td>TV-14</td>\n",
              "      <td>99 min</td>\n",
              "      <td>Comedies</td>\n",
              "      <td>When nerdy high schooler Dani finally attracts...</td>\n",
              "    </tr>\n",
              "  </tbody>\n",
              "</table>\n",
              "</div>\n",
              "      <button class=\"colab-df-convert\" onclick=\"convertToInteractive('df-ee14ca04-615a-4183-85a1-ae03c563905a')\"\n",
              "              title=\"Convert this dataframe to an interactive table.\"\n",
              "              style=\"display:none;\">\n",
              "        \n",
              "  <svg xmlns=\"http://www.w3.org/2000/svg\" height=\"24px\"viewBox=\"0 0 24 24\"\n",
              "       width=\"24px\">\n",
              "    <path d=\"M0 0h24v24H0V0z\" fill=\"none\"/>\n",
              "    <path d=\"M18.56 5.44l.94 2.06.94-2.06 2.06-.94-2.06-.94-.94-2.06-.94 2.06-2.06.94zm-11 1L8.5 8.5l.94-2.06 2.06-.94-2.06-.94L8.5 2.5l-.94 2.06-2.06.94zm10 10l.94 2.06.94-2.06 2.06-.94-2.06-.94-.94-2.06-.94 2.06-2.06.94z\"/><path d=\"M17.41 7.96l-1.37-1.37c-.4-.4-.92-.59-1.43-.59-.52 0-1.04.2-1.43.59L10.3 9.45l-7.72 7.72c-.78.78-.78 2.05 0 2.83L4 21.41c.39.39.9.59 1.41.59.51 0 1.02-.2 1.41-.59l7.78-7.78 2.81-2.81c.8-.78.8-2.07 0-2.86zM5.41 20L4 18.59l7.72-7.72 1.47 1.35L5.41 20z\"/>\n",
              "  </svg>\n",
              "      </button>\n",
              "      \n",
              "  <style>\n",
              "    .colab-df-container {\n",
              "      display:flex;\n",
              "      flex-wrap:wrap;\n",
              "      gap: 12px;\n",
              "    }\n",
              "\n",
              "    .colab-df-convert {\n",
              "      background-color: #E8F0FE;\n",
              "      border: none;\n",
              "      border-radius: 50%;\n",
              "      cursor: pointer;\n",
              "      display: none;\n",
              "      fill: #1967D2;\n",
              "      height: 32px;\n",
              "      padding: 0 0 0 0;\n",
              "      width: 32px;\n",
              "    }\n",
              "\n",
              "    .colab-df-convert:hover {\n",
              "      background-color: #E2EBFA;\n",
              "      box-shadow: 0px 1px 2px rgba(60, 64, 67, 0.3), 0px 1px 3px 1px rgba(60, 64, 67, 0.15);\n",
              "      fill: #174EA6;\n",
              "    }\n",
              "\n",
              "    [theme=dark] .colab-df-convert {\n",
              "      background-color: #3B4455;\n",
              "      fill: #D2E3FC;\n",
              "    }\n",
              "\n",
              "    [theme=dark] .colab-df-convert:hover {\n",
              "      background-color: #434B5C;\n",
              "      box-shadow: 0px 1px 3px 1px rgba(0, 0, 0, 0.15);\n",
              "      filter: drop-shadow(0px 1px 2px rgba(0, 0, 0, 0.3));\n",
              "      fill: #FFFFFF;\n",
              "    }\n",
              "  </style>\n",
              "\n",
              "      <script>\n",
              "        const buttonEl =\n",
              "          document.querySelector('#df-ee14ca04-615a-4183-85a1-ae03c563905a button.colab-df-convert');\n",
              "        buttonEl.style.display =\n",
              "          google.colab.kernel.accessAllowed ? 'block' : 'none';\n",
              "\n",
              "        async function convertToInteractive(key) {\n",
              "          const element = document.querySelector('#df-ee14ca04-615a-4183-85a1-ae03c563905a');\n",
              "          const dataTable =\n",
              "            await google.colab.kernel.invokeFunction('convertToInteractive',\n",
              "                                                     [key], {});\n",
              "          if (!dataTable) return;\n",
              "\n",
              "          const docLinkHtml = 'Like what you see? Visit the ' +\n",
              "            '<a target=\"_blank\" href=https://colab.research.google.com/notebooks/data_table.ipynb>data table notebook</a>'\n",
              "            + ' to learn more about interactive tables.';\n",
              "          element.innerHTML = '';\n",
              "          dataTable['output_type'] = 'display_data';\n",
              "          await google.colab.output.renderOutput(dataTable, element);\n",
              "          const docLink = document.createElement('div');\n",
              "          docLink.innerHTML = docLinkHtml;\n",
              "          element.appendChild(docLink);\n",
              "        }\n",
              "      </script>\n",
              "    </div>\n",
              "  </div>\n",
              "  "
            ]
          },
          "metadata": {},
          "execution_count": 18
        }
      ]
    },
    {
      "cell_type": "code",
      "source": [
        "# replace Missing Data on 3 Columns \n",
        "\n",
        "#   Country Replace with\n",
        "#   Director Replace with \"No Data\"\n",
        "#   Cast Replace with \"No Data\"\n",
        "data['country'] = data['country'].fillna(data['country'].mode()[0])\n",
        "data['cast'].replace(np.nan, 'No Data',inplace  = True)\n",
        "data['director'].replace(np.nan, 'No Data',inplace  = True)\n",
        "data.dropna(inplace=True)\n",
        "\n",
        "#Drop Missing Data Records\n",
        "#data.dropna(inplace=True)"
      ],
      "metadata": {
        "execution": {
          "iopub.status.busy": "2023-03-09T02:52:42.369549Z",
          "iopub.execute_input": "2023-03-09T02:52:42.370512Z",
          "iopub.status.idle": "2023-03-09T02:52:42.397047Z",
          "shell.execute_reply.started": "2023-03-09T02:52:42.370451Z",
          "shell.execute_reply": "2023-03-09T02:52:42.395911Z"
        },
        "trusted": true,
        "id": "BfeC2m3esqXU"
      },
      "execution_count": 19,
      "outputs": []
    },
    {
      "cell_type": "code",
      "source": [
        "#check on Data\n",
        "data.head()"
      ],
      "metadata": {
        "execution": {
          "iopub.status.busy": "2023-03-09T02:52:42.39943Z",
          "iopub.execute_input": "2023-03-09T02:52:42.400215Z",
          "iopub.status.idle": "2023-03-09T02:52:42.419656Z",
          "shell.execute_reply.started": "2023-03-09T02:52:42.400158Z",
          "shell.execute_reply": "2023-03-09T02:52:42.418229Z"
        },
        "trusted": true,
        "id": "o324-MIAsqXV",
        "colab": {
          "base_uri": "https://localhost:8080/",
          "height": 545
        },
        "outputId": "b1f6ba74-60f6-43f3-fd26-433ed436f589"
      },
      "execution_count": 20,
      "outputs": [
        {
          "output_type": "execute_result",
          "data": {
            "text/plain": [
              "    show_id     type                                    title  \\\n",
              "0  81145628    Movie  Norm of the North: King Sized Adventure   \n",
              "1  80117401    Movie               Jandino: Whatever it Takes   \n",
              "2  70234439  TV Show                       Transformers Prime   \n",
              "3  80058654  TV Show         Transformers: Robots in Disguise   \n",
              "4  80125979    Movie                             #realityhigh   \n",
              "\n",
              "                   director  \\\n",
              "0  Richard Finn, Tim Maltby   \n",
              "1                   No Data   \n",
              "2                   No Data   \n",
              "3                   No Data   \n",
              "4          Fernando Lebrija   \n",
              "\n",
              "                                                cast  \\\n",
              "0  Alan Marriott, Andrew Toth, Brian Dobson, Cole...   \n",
              "1                                   Jandino Asporaat   \n",
              "2  Peter Cullen, Sumalee Montano, Frank Welker, J...   \n",
              "3  Will Friedle, Darren Criss, Constance Zimmer, ...   \n",
              "4  Nesta Cooper, Kate Walsh, John Michael Higgins...   \n",
              "\n",
              "                                    country         date_added  release_year  \\\n",
              "0  United States, India, South Korea, China  September 9, 2019          2019   \n",
              "1                            United Kingdom  September 9, 2016          2016   \n",
              "2                             United States  September 8, 2018          2013   \n",
              "3                             United States  September 8, 2018          2016   \n",
              "4                             United States  September 8, 2017          2017   \n",
              "\n",
              "     rating  duration                           listed_in  \\\n",
              "0     TV-PG    90 min  Children & Family Movies, Comedies   \n",
              "1     TV-MA    94 min                     Stand-Up Comedy   \n",
              "2  TV-Y7-FV  1 Season                            Kids' TV   \n",
              "3     TV-Y7  1 Season                            Kids' TV   \n",
              "4     TV-14    99 min                            Comedies   \n",
              "\n",
              "                                         description  \n",
              "0  Before planning an awesome wedding for his gra...  \n",
              "1  Jandino Asporaat riffs on the challenges of ra...  \n",
              "2  With the help of three human allies, the Autob...  \n",
              "3  When a prison ship crash unleashes hundreds of...  \n",
              "4  When nerdy high schooler Dani finally attracts...  "
            ],
            "text/html": [
              "\n",
              "  <div id=\"df-7de5a78e-479c-4c40-9dfd-d598a445becb\">\n",
              "    <div class=\"colab-df-container\">\n",
              "      <div>\n",
              "<style scoped>\n",
              "    .dataframe tbody tr th:only-of-type {\n",
              "        vertical-align: middle;\n",
              "    }\n",
              "\n",
              "    .dataframe tbody tr th {\n",
              "        vertical-align: top;\n",
              "    }\n",
              "\n",
              "    .dataframe thead th {\n",
              "        text-align: right;\n",
              "    }\n",
              "</style>\n",
              "<table border=\"1\" class=\"dataframe\">\n",
              "  <thead>\n",
              "    <tr style=\"text-align: right;\">\n",
              "      <th></th>\n",
              "      <th>show_id</th>\n",
              "      <th>type</th>\n",
              "      <th>title</th>\n",
              "      <th>director</th>\n",
              "      <th>cast</th>\n",
              "      <th>country</th>\n",
              "      <th>date_added</th>\n",
              "      <th>release_year</th>\n",
              "      <th>rating</th>\n",
              "      <th>duration</th>\n",
              "      <th>listed_in</th>\n",
              "      <th>description</th>\n",
              "    </tr>\n",
              "  </thead>\n",
              "  <tbody>\n",
              "    <tr>\n",
              "      <th>0</th>\n",
              "      <td>81145628</td>\n",
              "      <td>Movie</td>\n",
              "      <td>Norm of the North: King Sized Adventure</td>\n",
              "      <td>Richard Finn, Tim Maltby</td>\n",
              "      <td>Alan Marriott, Andrew Toth, Brian Dobson, Cole...</td>\n",
              "      <td>United States, India, South Korea, China</td>\n",
              "      <td>September 9, 2019</td>\n",
              "      <td>2019</td>\n",
              "      <td>TV-PG</td>\n",
              "      <td>90 min</td>\n",
              "      <td>Children &amp; Family Movies, Comedies</td>\n",
              "      <td>Before planning an awesome wedding for his gra...</td>\n",
              "    </tr>\n",
              "    <tr>\n",
              "      <th>1</th>\n",
              "      <td>80117401</td>\n",
              "      <td>Movie</td>\n",
              "      <td>Jandino: Whatever it Takes</td>\n",
              "      <td>No Data</td>\n",
              "      <td>Jandino Asporaat</td>\n",
              "      <td>United Kingdom</td>\n",
              "      <td>September 9, 2016</td>\n",
              "      <td>2016</td>\n",
              "      <td>TV-MA</td>\n",
              "      <td>94 min</td>\n",
              "      <td>Stand-Up Comedy</td>\n",
              "      <td>Jandino Asporaat riffs on the challenges of ra...</td>\n",
              "    </tr>\n",
              "    <tr>\n",
              "      <th>2</th>\n",
              "      <td>70234439</td>\n",
              "      <td>TV Show</td>\n",
              "      <td>Transformers Prime</td>\n",
              "      <td>No Data</td>\n",
              "      <td>Peter Cullen, Sumalee Montano, Frank Welker, J...</td>\n",
              "      <td>United States</td>\n",
              "      <td>September 8, 2018</td>\n",
              "      <td>2013</td>\n",
              "      <td>TV-Y7-FV</td>\n",
              "      <td>1 Season</td>\n",
              "      <td>Kids' TV</td>\n",
              "      <td>With the help of three human allies, the Autob...</td>\n",
              "    </tr>\n",
              "    <tr>\n",
              "      <th>3</th>\n",
              "      <td>80058654</td>\n",
              "      <td>TV Show</td>\n",
              "      <td>Transformers: Robots in Disguise</td>\n",
              "      <td>No Data</td>\n",
              "      <td>Will Friedle, Darren Criss, Constance Zimmer, ...</td>\n",
              "      <td>United States</td>\n",
              "      <td>September 8, 2018</td>\n",
              "      <td>2016</td>\n",
              "      <td>TV-Y7</td>\n",
              "      <td>1 Season</td>\n",
              "      <td>Kids' TV</td>\n",
              "      <td>When a prison ship crash unleashes hundreds of...</td>\n",
              "    </tr>\n",
              "    <tr>\n",
              "      <th>4</th>\n",
              "      <td>80125979</td>\n",
              "      <td>Movie</td>\n",
              "      <td>#realityhigh</td>\n",
              "      <td>Fernando Lebrija</td>\n",
              "      <td>Nesta Cooper, Kate Walsh, John Michael Higgins...</td>\n",
              "      <td>United States</td>\n",
              "      <td>September 8, 2017</td>\n",
              "      <td>2017</td>\n",
              "      <td>TV-14</td>\n",
              "      <td>99 min</td>\n",
              "      <td>Comedies</td>\n",
              "      <td>When nerdy high schooler Dani finally attracts...</td>\n",
              "    </tr>\n",
              "  </tbody>\n",
              "</table>\n",
              "</div>\n",
              "      <button class=\"colab-df-convert\" onclick=\"convertToInteractive('df-7de5a78e-479c-4c40-9dfd-d598a445becb')\"\n",
              "              title=\"Convert this dataframe to an interactive table.\"\n",
              "              style=\"display:none;\">\n",
              "        \n",
              "  <svg xmlns=\"http://www.w3.org/2000/svg\" height=\"24px\"viewBox=\"0 0 24 24\"\n",
              "       width=\"24px\">\n",
              "    <path d=\"M0 0h24v24H0V0z\" fill=\"none\"/>\n",
              "    <path d=\"M18.56 5.44l.94 2.06.94-2.06 2.06-.94-2.06-.94-.94-2.06-.94 2.06-2.06.94zm-11 1L8.5 8.5l.94-2.06 2.06-.94-2.06-.94L8.5 2.5l-.94 2.06-2.06.94zm10 10l.94 2.06.94-2.06 2.06-.94-2.06-.94-.94-2.06-.94 2.06-2.06.94z\"/><path d=\"M17.41 7.96l-1.37-1.37c-.4-.4-.92-.59-1.43-.59-.52 0-1.04.2-1.43.59L10.3 9.45l-7.72 7.72c-.78.78-.78 2.05 0 2.83L4 21.41c.39.39.9.59 1.41.59.51 0 1.02-.2 1.41-.59l7.78-7.78 2.81-2.81c.8-.78.8-2.07 0-2.86zM5.41 20L4 18.59l7.72-7.72 1.47 1.35L5.41 20z\"/>\n",
              "  </svg>\n",
              "      </button>\n",
              "      \n",
              "  <style>\n",
              "    .colab-df-container {\n",
              "      display:flex;\n",
              "      flex-wrap:wrap;\n",
              "      gap: 12px;\n",
              "    }\n",
              "\n",
              "    .colab-df-convert {\n",
              "      background-color: #E8F0FE;\n",
              "      border: none;\n",
              "      border-radius: 50%;\n",
              "      cursor: pointer;\n",
              "      display: none;\n",
              "      fill: #1967D2;\n",
              "      height: 32px;\n",
              "      padding: 0 0 0 0;\n",
              "      width: 32px;\n",
              "    }\n",
              "\n",
              "    .colab-df-convert:hover {\n",
              "      background-color: #E2EBFA;\n",
              "      box-shadow: 0px 1px 2px rgba(60, 64, 67, 0.3), 0px 1px 3px 1px rgba(60, 64, 67, 0.15);\n",
              "      fill: #174EA6;\n",
              "    }\n",
              "\n",
              "    [theme=dark] .colab-df-convert {\n",
              "      background-color: #3B4455;\n",
              "      fill: #D2E3FC;\n",
              "    }\n",
              "\n",
              "    [theme=dark] .colab-df-convert:hover {\n",
              "      background-color: #434B5C;\n",
              "      box-shadow: 0px 1px 3px 1px rgba(0, 0, 0, 0.15);\n",
              "      filter: drop-shadow(0px 1px 2px rgba(0, 0, 0, 0.3));\n",
              "      fill: #FFFFFF;\n",
              "    }\n",
              "  </style>\n",
              "\n",
              "      <script>\n",
              "        const buttonEl =\n",
              "          document.querySelector('#df-7de5a78e-479c-4c40-9dfd-d598a445becb button.colab-df-convert');\n",
              "        buttonEl.style.display =\n",
              "          google.colab.kernel.accessAllowed ? 'block' : 'none';\n",
              "\n",
              "        async function convertToInteractive(key) {\n",
              "          const element = document.querySelector('#df-7de5a78e-479c-4c40-9dfd-d598a445becb');\n",
              "          const dataTable =\n",
              "            await google.colab.kernel.invokeFunction('convertToInteractive',\n",
              "                                                     [key], {});\n",
              "          if (!dataTable) return;\n",
              "\n",
              "          const docLinkHtml = 'Like what you see? Visit the ' +\n",
              "            '<a target=\"_blank\" href=https://colab.research.google.com/notebooks/data_table.ipynb>data table notebook</a>'\n",
              "            + ' to learn more about interactive tables.';\n",
              "          element.innerHTML = '';\n",
              "          dataTable['output_type'] = 'display_data';\n",
              "          await google.colab.output.renderOutput(dataTable, element);\n",
              "          const docLink = document.createElement('div');\n",
              "          docLink.innerHTML = docLinkHtml;\n",
              "          element.appendChild(docLink);\n",
              "        }\n",
              "      </script>\n",
              "    </div>\n",
              "  </div>\n",
              "  "
            ]
          },
          "metadata": {},
          "execution_count": 20
        }
      ]
    },
    {
      "cell_type": "code",
      "source": [
        "#check missing values on data after cleansing\n",
        "data.isnull().sum()"
      ],
      "metadata": {
        "execution": {
          "iopub.status.busy": "2023-03-09T02:52:42.421657Z",
          "iopub.execute_input": "2023-03-09T02:52:42.422526Z",
          "iopub.status.idle": "2023-03-09T02:52:42.439823Z",
          "shell.execute_reply.started": "2023-03-09T02:52:42.422467Z",
          "shell.execute_reply": "2023-03-09T02:52:42.438462Z"
        },
        "trusted": true,
        "id": "gaaXfsW8sqXV",
        "colab": {
          "base_uri": "https://localhost:8080/"
        },
        "outputId": "f8e887db-9d6a-4ba1-b030-fdb621573baa"
      },
      "execution_count": 21,
      "outputs": [
        {
          "output_type": "execute_result",
          "data": {
            "text/plain": [
              "show_id         0\n",
              "type            0\n",
              "title           0\n",
              "director        0\n",
              "cast            0\n",
              "country         0\n",
              "date_added      0\n",
              "release_year    0\n",
              "rating          0\n",
              "duration        0\n",
              "listed_in       0\n",
              "description     0\n",
              "dtype: int64"
            ]
          },
          "metadata": {},
          "execution_count": 21
        }
      ]
    },
    {
      "cell_type": "code",
      "source": [
        "#Now look like Dataset is more clean , Then let's create new Column\n",
        "\n",
        "#first let's change format of Column date_added to only datetime with \"YYYY-MM-DD\" Format\n",
        "data['date_added'] = pd.to_datetime(data['date_added'])\n",
        "\n",
        "#then split sub-values in Datetime of Column date_added out to Month(Month No.),Month(Full Month Name) and Year \n",
        "data['month_added']=data['date_added'].dt.month\n",
        "data['month_name_added']=data['date_added'].dt.month_name()\n",
        "data['year_added'] = data['date_added'].dt.year"
      ],
      "metadata": {
        "execution": {
          "iopub.status.busy": "2023-03-09T02:52:42.441161Z",
          "iopub.execute_input": "2023-03-09T02:52:42.44156Z",
          "iopub.status.idle": "2023-03-09T02:52:42.675204Z",
          "shell.execute_reply.started": "2023-03-09T02:52:42.441523Z",
          "shell.execute_reply": "2023-03-09T02:52:42.673738Z"
        },
        "trusted": true,
        "id": "uhOLnWOrsqXV"
      },
      "execution_count": 22,
      "outputs": []
    },
    {
      "cell_type": "code",
      "source": [
        "# Now let's Show Dataset After create New Column\n",
        "data.head()"
      ],
      "metadata": {
        "execution": {
          "iopub.status.busy": "2023-03-09T02:52:42.677082Z",
          "iopub.execute_input": "2023-03-09T02:52:42.677488Z",
          "iopub.status.idle": "2023-03-09T02:52:42.698231Z",
          "shell.execute_reply.started": "2023-03-09T02:52:42.677446Z",
          "shell.execute_reply": "2023-03-09T02:52:42.696887Z"
        },
        "trusted": true,
        "id": "uAI2pm-asqXW",
        "colab": {
          "base_uri": "https://localhost:8080/",
          "height": 721
        },
        "outputId": "04d4104a-67b7-4490-9a47-e89356d1ebb8"
      },
      "execution_count": 23,
      "outputs": [
        {
          "output_type": "execute_result",
          "data": {
            "text/plain": [
              "    show_id     type                                    title  \\\n",
              "0  81145628    Movie  Norm of the North: King Sized Adventure   \n",
              "1  80117401    Movie               Jandino: Whatever it Takes   \n",
              "2  70234439  TV Show                       Transformers Prime   \n",
              "3  80058654  TV Show         Transformers: Robots in Disguise   \n",
              "4  80125979    Movie                             #realityhigh   \n",
              "\n",
              "                   director  \\\n",
              "0  Richard Finn, Tim Maltby   \n",
              "1                   No Data   \n",
              "2                   No Data   \n",
              "3                   No Data   \n",
              "4          Fernando Lebrija   \n",
              "\n",
              "                                                cast  \\\n",
              "0  Alan Marriott, Andrew Toth, Brian Dobson, Cole...   \n",
              "1                                   Jandino Asporaat   \n",
              "2  Peter Cullen, Sumalee Montano, Frank Welker, J...   \n",
              "3  Will Friedle, Darren Criss, Constance Zimmer, ...   \n",
              "4  Nesta Cooper, Kate Walsh, John Michael Higgins...   \n",
              "\n",
              "                                    country date_added  release_year  \\\n",
              "0  United States, India, South Korea, China 2019-09-09          2019   \n",
              "1                            United Kingdom 2016-09-09          2016   \n",
              "2                             United States 2018-09-08          2013   \n",
              "3                             United States 2018-09-08          2016   \n",
              "4                             United States 2017-09-08          2017   \n",
              "\n",
              "     rating  duration                           listed_in  \\\n",
              "0     TV-PG    90 min  Children & Family Movies, Comedies   \n",
              "1     TV-MA    94 min                     Stand-Up Comedy   \n",
              "2  TV-Y7-FV  1 Season                            Kids' TV   \n",
              "3     TV-Y7  1 Season                            Kids' TV   \n",
              "4     TV-14    99 min                            Comedies   \n",
              "\n",
              "                                         description  month_added  \\\n",
              "0  Before planning an awesome wedding for his gra...            9   \n",
              "1  Jandino Asporaat riffs on the challenges of ra...            9   \n",
              "2  With the help of three human allies, the Autob...            9   \n",
              "3  When a prison ship crash unleashes hundreds of...            9   \n",
              "4  When nerdy high schooler Dani finally attracts...            9   \n",
              "\n",
              "  month_name_added  year_added  \n",
              "0        September        2019  \n",
              "1        September        2016  \n",
              "2        September        2018  \n",
              "3        September        2018  \n",
              "4        September        2017  "
            ],
            "text/html": [
              "\n",
              "  <div id=\"df-3d3f7dcb-88a8-45c8-809f-e0bfada1f4aa\">\n",
              "    <div class=\"colab-df-container\">\n",
              "      <div>\n",
              "<style scoped>\n",
              "    .dataframe tbody tr th:only-of-type {\n",
              "        vertical-align: middle;\n",
              "    }\n",
              "\n",
              "    .dataframe tbody tr th {\n",
              "        vertical-align: top;\n",
              "    }\n",
              "\n",
              "    .dataframe thead th {\n",
              "        text-align: right;\n",
              "    }\n",
              "</style>\n",
              "<table border=\"1\" class=\"dataframe\">\n",
              "  <thead>\n",
              "    <tr style=\"text-align: right;\">\n",
              "      <th></th>\n",
              "      <th>show_id</th>\n",
              "      <th>type</th>\n",
              "      <th>title</th>\n",
              "      <th>director</th>\n",
              "      <th>cast</th>\n",
              "      <th>country</th>\n",
              "      <th>date_added</th>\n",
              "      <th>release_year</th>\n",
              "      <th>rating</th>\n",
              "      <th>duration</th>\n",
              "      <th>listed_in</th>\n",
              "      <th>description</th>\n",
              "      <th>month_added</th>\n",
              "      <th>month_name_added</th>\n",
              "      <th>year_added</th>\n",
              "    </tr>\n",
              "  </thead>\n",
              "  <tbody>\n",
              "    <tr>\n",
              "      <th>0</th>\n",
              "      <td>81145628</td>\n",
              "      <td>Movie</td>\n",
              "      <td>Norm of the North: King Sized Adventure</td>\n",
              "      <td>Richard Finn, Tim Maltby</td>\n",
              "      <td>Alan Marriott, Andrew Toth, Brian Dobson, Cole...</td>\n",
              "      <td>United States, India, South Korea, China</td>\n",
              "      <td>2019-09-09</td>\n",
              "      <td>2019</td>\n",
              "      <td>TV-PG</td>\n",
              "      <td>90 min</td>\n",
              "      <td>Children &amp; Family Movies, Comedies</td>\n",
              "      <td>Before planning an awesome wedding for his gra...</td>\n",
              "      <td>9</td>\n",
              "      <td>September</td>\n",
              "      <td>2019</td>\n",
              "    </tr>\n",
              "    <tr>\n",
              "      <th>1</th>\n",
              "      <td>80117401</td>\n",
              "      <td>Movie</td>\n",
              "      <td>Jandino: Whatever it Takes</td>\n",
              "      <td>No Data</td>\n",
              "      <td>Jandino Asporaat</td>\n",
              "      <td>United Kingdom</td>\n",
              "      <td>2016-09-09</td>\n",
              "      <td>2016</td>\n",
              "      <td>TV-MA</td>\n",
              "      <td>94 min</td>\n",
              "      <td>Stand-Up Comedy</td>\n",
              "      <td>Jandino Asporaat riffs on the challenges of ra...</td>\n",
              "      <td>9</td>\n",
              "      <td>September</td>\n",
              "      <td>2016</td>\n",
              "    </tr>\n",
              "    <tr>\n",
              "      <th>2</th>\n",
              "      <td>70234439</td>\n",
              "      <td>TV Show</td>\n",
              "      <td>Transformers Prime</td>\n",
              "      <td>No Data</td>\n",
              "      <td>Peter Cullen, Sumalee Montano, Frank Welker, J...</td>\n",
              "      <td>United States</td>\n",
              "      <td>2018-09-08</td>\n",
              "      <td>2013</td>\n",
              "      <td>TV-Y7-FV</td>\n",
              "      <td>1 Season</td>\n",
              "      <td>Kids' TV</td>\n",
              "      <td>With the help of three human allies, the Autob...</td>\n",
              "      <td>9</td>\n",
              "      <td>September</td>\n",
              "      <td>2018</td>\n",
              "    </tr>\n",
              "    <tr>\n",
              "      <th>3</th>\n",
              "      <td>80058654</td>\n",
              "      <td>TV Show</td>\n",
              "      <td>Transformers: Robots in Disguise</td>\n",
              "      <td>No Data</td>\n",
              "      <td>Will Friedle, Darren Criss, Constance Zimmer, ...</td>\n",
              "      <td>United States</td>\n",
              "      <td>2018-09-08</td>\n",
              "      <td>2016</td>\n",
              "      <td>TV-Y7</td>\n",
              "      <td>1 Season</td>\n",
              "      <td>Kids' TV</td>\n",
              "      <td>When a prison ship crash unleashes hundreds of...</td>\n",
              "      <td>9</td>\n",
              "      <td>September</td>\n",
              "      <td>2018</td>\n",
              "    </tr>\n",
              "    <tr>\n",
              "      <th>4</th>\n",
              "      <td>80125979</td>\n",
              "      <td>Movie</td>\n",
              "      <td>#realityhigh</td>\n",
              "      <td>Fernando Lebrija</td>\n",
              "      <td>Nesta Cooper, Kate Walsh, John Michael Higgins...</td>\n",
              "      <td>United States</td>\n",
              "      <td>2017-09-08</td>\n",
              "      <td>2017</td>\n",
              "      <td>TV-14</td>\n",
              "      <td>99 min</td>\n",
              "      <td>Comedies</td>\n",
              "      <td>When nerdy high schooler Dani finally attracts...</td>\n",
              "      <td>9</td>\n",
              "      <td>September</td>\n",
              "      <td>2017</td>\n",
              "    </tr>\n",
              "  </tbody>\n",
              "</table>\n",
              "</div>\n",
              "      <button class=\"colab-df-convert\" onclick=\"convertToInteractive('df-3d3f7dcb-88a8-45c8-809f-e0bfada1f4aa')\"\n",
              "              title=\"Convert this dataframe to an interactive table.\"\n",
              "              style=\"display:none;\">\n",
              "        \n",
              "  <svg xmlns=\"http://www.w3.org/2000/svg\" height=\"24px\"viewBox=\"0 0 24 24\"\n",
              "       width=\"24px\">\n",
              "    <path d=\"M0 0h24v24H0V0z\" fill=\"none\"/>\n",
              "    <path d=\"M18.56 5.44l.94 2.06.94-2.06 2.06-.94-2.06-.94-.94-2.06-.94 2.06-2.06.94zm-11 1L8.5 8.5l.94-2.06 2.06-.94-2.06-.94L8.5 2.5l-.94 2.06-2.06.94zm10 10l.94 2.06.94-2.06 2.06-.94-2.06-.94-.94-2.06-.94 2.06-2.06.94z\"/><path d=\"M17.41 7.96l-1.37-1.37c-.4-.4-.92-.59-1.43-.59-.52 0-1.04.2-1.43.59L10.3 9.45l-7.72 7.72c-.78.78-.78 2.05 0 2.83L4 21.41c.39.39.9.59 1.41.59.51 0 1.02-.2 1.41-.59l7.78-7.78 2.81-2.81c.8-.78.8-2.07 0-2.86zM5.41 20L4 18.59l7.72-7.72 1.47 1.35L5.41 20z\"/>\n",
              "  </svg>\n",
              "      </button>\n",
              "      \n",
              "  <style>\n",
              "    .colab-df-container {\n",
              "      display:flex;\n",
              "      flex-wrap:wrap;\n",
              "      gap: 12px;\n",
              "    }\n",
              "\n",
              "    .colab-df-convert {\n",
              "      background-color: #E8F0FE;\n",
              "      border: none;\n",
              "      border-radius: 50%;\n",
              "      cursor: pointer;\n",
              "      display: none;\n",
              "      fill: #1967D2;\n",
              "      height: 32px;\n",
              "      padding: 0 0 0 0;\n",
              "      width: 32px;\n",
              "    }\n",
              "\n",
              "    .colab-df-convert:hover {\n",
              "      background-color: #E2EBFA;\n",
              "      box-shadow: 0px 1px 2px rgba(60, 64, 67, 0.3), 0px 1px 3px 1px rgba(60, 64, 67, 0.15);\n",
              "      fill: #174EA6;\n",
              "    }\n",
              "\n",
              "    [theme=dark] .colab-df-convert {\n",
              "      background-color: #3B4455;\n",
              "      fill: #D2E3FC;\n",
              "    }\n",
              "\n",
              "    [theme=dark] .colab-df-convert:hover {\n",
              "      background-color: #434B5C;\n",
              "      box-shadow: 0px 1px 3px 1px rgba(0, 0, 0, 0.15);\n",
              "      filter: drop-shadow(0px 1px 2px rgba(0, 0, 0, 0.3));\n",
              "      fill: #FFFFFF;\n",
              "    }\n",
              "  </style>\n",
              "\n",
              "      <script>\n",
              "        const buttonEl =\n",
              "          document.querySelector('#df-3d3f7dcb-88a8-45c8-809f-e0bfada1f4aa button.colab-df-convert');\n",
              "        buttonEl.style.display =\n",
              "          google.colab.kernel.accessAllowed ? 'block' : 'none';\n",
              "\n",
              "        async function convertToInteractive(key) {\n",
              "          const element = document.querySelector('#df-3d3f7dcb-88a8-45c8-809f-e0bfada1f4aa');\n",
              "          const dataTable =\n",
              "            await google.colab.kernel.invokeFunction('convertToInteractive',\n",
              "                                                     [key], {});\n",
              "          if (!dataTable) return;\n",
              "\n",
              "          const docLinkHtml = 'Like what you see? Visit the ' +\n",
              "            '<a target=\"_blank\" href=https://colab.research.google.com/notebooks/data_table.ipynb>data table notebook</a>'\n",
              "            + ' to learn more about interactive tables.';\n",
              "          element.innerHTML = '';\n",
              "          dataTable['output_type'] = 'display_data';\n",
              "          await google.colab.output.renderOutput(dataTable, element);\n",
              "          const docLink = document.createElement('div');\n",
              "          docLink.innerHTML = docLinkHtml;\n",
              "          element.appendChild(docLink);\n",
              "        }\n",
              "      </script>\n",
              "    </div>\n",
              "  </div>\n",
              "  "
            ]
          },
          "metadata": {},
          "execution_count": 23
        }
      ]
    },
    {
      "cell_type": "code",
      "source": [
        "#Let's Check Data Type to Makesure\n",
        "data.dtypes"
      ],
      "metadata": {
        "execution": {
          "iopub.status.busy": "2023-03-09T02:52:42.699748Z",
          "iopub.execute_input": "2023-03-09T02:52:42.700628Z",
          "iopub.status.idle": "2023-03-09T02:52:42.717254Z",
          "shell.execute_reply.started": "2023-03-09T02:52:42.700586Z",
          "shell.execute_reply": "2023-03-09T02:52:42.715675Z"
        },
        "trusted": true,
        "id": "XHNlIkUtsqXW",
        "colab": {
          "base_uri": "https://localhost:8080/"
        },
        "outputId": "a258ea8e-2a5f-49ab-cc73-9a2fc5124c4f"
      },
      "execution_count": 24,
      "outputs": [
        {
          "output_type": "execute_result",
          "data": {
            "text/plain": [
              "show_id                      int64\n",
              "type                        object\n",
              "title                       object\n",
              "director                    object\n",
              "cast                        object\n",
              "country                     object\n",
              "date_added          datetime64[ns]\n",
              "release_year                 int64\n",
              "rating                      object\n",
              "duration                    object\n",
              "listed_in                   object\n",
              "description                 object\n",
              "month_added                  int64\n",
              "month_name_added            object\n",
              "year_added                   int64\n",
              "dtype: object"
            ]
          },
          "metadata": {},
          "execution_count": 24
        }
      ]
    },
    {
      "cell_type": "code",
      "source": [
        "#TV shows and movies were added on netflix , count group by 'year_added'\n",
        "data['year_added'].value_counts()"
      ],
      "metadata": {
        "execution": {
          "iopub.status.busy": "2023-03-09T03:14:34.489619Z",
          "iopub.execute_input": "2023-03-09T03:14:34.490865Z",
          "iopub.status.idle": "2023-03-09T03:14:34.500166Z",
          "shell.execute_reply.started": "2023-03-09T03:14:34.490812Z",
          "shell.execute_reply": "2023-03-09T03:14:34.499083Z"
        },
        "trusted": true,
        "id": "_EPZTNoFsqXX",
        "colab": {
          "base_uri": "https://localhost:8080/"
        },
        "outputId": "8f9a5c51-bfd3-4a24-caff-266ea67fa6c8"
      },
      "execution_count": 25,
      "outputs": [
        {
          "output_type": "execute_result",
          "data": {
            "text/plain": [
              "2019    2349\n",
              "2018    1781\n",
              "2017    1297\n",
              "2016     453\n",
              "2020     184\n",
              "2015      88\n",
              "2014      25\n",
              "2011      13\n",
              "2013      12\n",
              "2012       7\n",
              "2009       2\n",
              "2008       2\n",
              "2010       1\n",
              "Name: year_added, dtype: int64"
            ]
          },
          "metadata": {},
          "execution_count": 25
        }
      ]
    },
    {
      "cell_type": "code",
      "source": [
        "#Then let's plot to the Graph to show which year have most Movie and TV Show\n",
        "plt.figure(figsize=(10,8))\n",
        "plt.title('Top 10 Years')\n",
        "sns.countplot(x='year_added',data=data,order=data['year_added'].value_counts().index[:10],facecolor=(0, 0, 0, 0),linewidth=5, edgecolor=sns.color_palette(\"Pastel1\"))\n",
        "plt.show()"
      ],
      "metadata": {
        "execution": {
          "iopub.status.busy": "2023-03-09T03:15:55.148999Z",
          "iopub.execute_input": "2023-03-09T03:15:55.149838Z",
          "iopub.status.idle": "2023-03-09T03:15:55.401506Z",
          "shell.execute_reply.started": "2023-03-09T03:15:55.149792Z",
          "shell.execute_reply": "2023-03-09T03:15:55.400397Z"
        },
        "trusted": true,
        "id": "bkH8BkpxsqXX",
        "colab": {
          "base_uri": "https://localhost:8080/",
          "height": 514
        },
        "outputId": "7671d500-dd6b-4e28-eb60-95fa895ed09f"
      },
      "execution_count": 28,
      "outputs": [
        {
          "output_type": "display_data",
          "data": {
            "text/plain": [
              "<Figure size 720x576 with 1 Axes>"
            ],
            "image/png": "[encoded data removed]"
          },
          "metadata": {
            "needs_background": "light"
          }
        }
      ]
    },
    {
      "cell_type": "code",
      "source": [
        "data.groupby('type').type.count()"
      ],
      "metadata": {
        "execution": {
          "iopub.status.busy": "2023-03-09T03:21:17.500806Z",
          "iopub.execute_input": "2023-03-09T03:21:17.501176Z",
          "iopub.status.idle": "2023-03-09T03:21:17.511399Z",
          "shell.execute_reply.started": "2023-03-09T03:21:17.501141Z",
          "shell.execute_reply": "2023-03-09T03:21:17.510131Z"
        },
        "trusted": true,
        "id": "0ELnA0G1sqXX",
        "colab": {
          "base_uri": "https://localhost:8080/"
        },
        "outputId": "2aec1d69-248d-4c14-b6cb-760ec5cbb771"
      },
      "execution_count": 36,
      "outputs": [
        {
          "output_type": "execute_result",
          "data": {
            "text/plain": [
              "type\n",
              "Movie      4265\n",
              "TV Show    1969\n",
              "Name: type, dtype: int64"
            ]
          },
          "metadata": {},
          "execution_count": 36
        }
      ]
    },
    {
      "cell_type": "code",
      "source": [
        "sns.countplot(x='type', data=data,palette=\"Pastel1\")\n",
        "plt.show()"
      ],
      "metadata": {
        "execution": {
          "iopub.status.busy": "2023-03-09T03:25:27.514742Z",
          "iopub.execute_input": "2023-03-09T03:25:27.515351Z",
          "iopub.status.idle": "2023-03-09T03:25:27.679261Z",
          "shell.execute_reply.started": "2023-03-09T03:25:27.515296Z",
          "shell.execute_reply": "2023-03-09T03:25:27.678405Z"
        },
        "trusted": true,
        "id": "u9eYcw1esqXY",
        "colab": {
          "base_uri": "https://localhost:8080/",
          "height": 279
        },
        "outputId": "83c68f6f-6f59-4907-843f-3b13ec44e323"
      },
      "execution_count": 41,
      "outputs": [
        {
          "output_type": "display_data",
          "data": {
            "text/plain": [
              "<Figure size 432x288 with 1 Axes>"
            ],
            "image/png": "[encoded data removed]"
          },
          "metadata": {
            "needs_background": "light"
          }
        }
      ]
    },
    {
      "cell_type": "code",
      "source": [
        "\n",
        "data['country'].value_counts()[:10]"
      ],
      "metadata": {
        "execution": {
          "iopub.status.busy": "2023-03-09T03:40:24.674503Z",
          "iopub.execute_input": "2023-03-09T03:40:24.674899Z",
          "iopub.status.idle": "2023-03-09T03:40:24.686776Z",
          "shell.execute_reply.started": "2023-03-09T03:40:24.674861Z",
          "shell.execute_reply": "2023-03-09T03:40:24.685751Z"
        },
        "trusted": true,
        "id": "2RY02ZhtsqXZ",
        "colab": {
          "base_uri": "https://localhost:8080/"
        },
        "outputId": "83062a44-8dda-44a2-c9bb-33ca19ebfb60"
      },
      "execution_count": 43,
      "outputs": [
        {
          "output_type": "execute_result",
          "data": {
            "text/plain": [
              "United States     2032\n",
              "India              777\n",
              "United Kingdom     348\n",
              "Japan              176\n",
              "Canada             141\n",
              "South Korea        136\n",
              "Spain              117\n",
              "France              90\n",
              "Mexico              83\n",
              "Turkey              79\n",
              "Name: country, dtype: int64"
            ]
          },
          "metadata": {},
          "execution_count": 43
        }
      ]
    },
    {
      "cell_type": "code",
      "source": [
        "#Let's plot to the Graph\n",
        "\n",
        "fig = plt.figure(figsize=(12,6))\n",
        "sns.countplot(data = data,y = 'country', order = data[\"country\"].value_counts().index[:10],hue = 'type',palette = 'Pastel1')\n",
        "plt.title(\"Top countries having most content\")\n",
        "plt.show()"
      ],
      "metadata": {
        "execution": {
          "iopub.status.busy": "2023-03-09T03:41:01.868766Z",
          "iopub.execute_input": "2023-03-09T03:41:01.869193Z",
          "iopub.status.idle": "2023-03-09T03:41:02.172489Z",
          "shell.execute_reply.started": "2023-03-09T03:41:01.869152Z",
          "shell.execute_reply": "2023-03-09T03:41:02.169824Z"
        },
        "trusted": true,
        "id": "vWBTXryysqXZ",
        "colab": {
          "base_uri": "https://localhost:8080/",
          "height": 404
        },
        "outputId": "511fa4ef-15ac-4748-ea68-ec7a3704f663"
      },
      "execution_count": 45,
      "outputs": [
        {
          "output_type": "display_data",
          "data": {
            "text/plain": [
              "<Figure size 864x432 with 1 Axes>"
            ],
            "image/png": "[encoded data removed]"
          },
          "metadata": {
            "needs_background": "light"
          }
        }
      ]
    },
    {
      "cell_type": "markdown",
      "source": [
        "After Plot Graph Visualization\n",
        "\n",
        "Look like Most Movie and TV Show is USA Followed by India , Which have Very difference ratio of Movie and TV Show\n",
        "While UK almost have most balanced between Movie and TV Show\n",
        "Japan And South Korean have TV Show more than Movie"
      ],
      "metadata": {
        "id": "BMEV9QLn4FOV"
      }
    },
    {
      "cell_type": "code",
      "source": [
        "# Start by Director\n",
        "data['director'].value_counts()"
      ],
      "metadata": {
        "execution": {
          "iopub.status.busy": "2023-03-09T04:34:14.952567Z",
          "iopub.execute_input": "2023-03-09T04:34:14.952972Z",
          "iopub.status.idle": "2023-03-09T04:34:14.964246Z",
          "shell.execute_reply.started": "2023-03-09T04:34:14.952935Z",
          "shell.execute_reply": "2023-03-09T04:34:14.963142Z"
        },
        "trusted": true,
        "id": "7iHqhGtgsqXa",
        "colab": {
          "base_uri": "https://localhost:8080/"
        },
        "outputId": "32bf8ef8-1695-4742-b73d-1a48d770ae4d"
      },
      "execution_count": 46,
      "outputs": [
        {
          "output_type": "execute_result",
          "data": {
            "text/plain": [
              "Raúl Campos, Jan Suter         18\n",
              "Marcus Raboy                   14\n",
              "Jay Karas                      13\n",
              "Jay Chapman                    12\n",
              "Steven Spielberg                9\n",
              "                               ..\n",
              "Peter Mortimer, Josh Lowell     1\n",
              "Greg Coolidge                   1\n",
              "Owen Egerton                    1\n",
              "Sam \"Blitz\" Bazawule            1\n",
              "Onur Ünlü                       1\n",
              "Name: director, Length: 3301, dtype: int64"
            ]
          },
          "metadata": {},
          "execution_count": 46
        }
      ]
    },
    {
      "cell_type": "code",
      "source": [
        "\n",
        "director = data[data.director!='No Data'].set_index('title').director.str.split(\",\",expand=True).stack().reset_index(level=1,drop=True)\n"
      ],
      "metadata": {
        "execution": {
          "iopub.status.busy": "2023-03-09T04:38:48.386982Z",
          "iopub.execute_input": "2023-03-09T04:38:48.387816Z",
          "iopub.status.idle": "2023-03-09T04:38:48.418732Z",
          "shell.execute_reply.started": "2023-03-09T04:38:48.38777Z",
          "shell.execute_reply": "2023-03-09T04:38:48.417819Z"
        },
        "trusted": true,
        "id": "2MgXfHwzsqXa"
      },
      "execution_count": 47,
      "outputs": []
    },
    {
      "cell_type": "code",
      "source": [
        "director"
      ],
      "metadata": {
        "execution": {
          "iopub.status.busy": "2023-03-09T04:39:38.963685Z",
          "iopub.execute_input": "2023-03-09T04:39:38.964091Z",
          "iopub.status.idle": "2023-03-09T04:39:38.973494Z",
          "shell.execute_reply.started": "2023-03-09T04:39:38.964052Z",
          "shell.execute_reply": "2023-03-09T04:39:38.972419Z"
        },
        "trusted": true,
        "id": "AiOyAq_9sqXa",
        "colab": {
          "base_uri": "https://localhost:8080/"
        },
        "outputId": "bb207a61-3777-4939-e5b1-0f897699768c"
      },
      "execution_count": 48,
      "outputs": [
        {
          "output_type": "execute_result",
          "data": {
            "text/plain": [
              "title\n",
              "Norm of the North: King Sized Adventure            Richard Finn\n",
              "Norm of the North: King Sized Adventure              Tim Maltby\n",
              "#realityhigh                                   Fernando Lebrija\n",
              "Automata                                            Gabe Ibáñez\n",
              "Fabrizio Copano: Solo pienso en mi                 Rodrigo Toro\n",
              "                                                   ...         \n",
              "Miraculous: Tales of Ladybug & Cat Noir           Thomas Astruc\n",
              "Sacred Games                               Vikramaditya Motwane\n",
              "Sacred Games                                     Anurag Kashyap\n",
              "Men on a Mission                                     Jung-ah Im\n",
              "Leyla and Mecnun                                      Onur Ünlü\n",
              "Length: 4852, dtype: object"
            ]
          },
          "metadata": {},
          "execution_count": 48
        }
      ]
    },
    {
      "cell_type": "code",
      "source": [
        "#let's Count the Director\n",
        "director.value_counts()"
      ],
      "metadata": {
        "execution": {
          "iopub.status.busy": "2023-03-09T04:41:20.710994Z",
          "iopub.execute_input": "2023-03-09T04:41:20.711455Z",
          "iopub.status.idle": "2023-03-09T04:41:20.72394Z",
          "shell.execute_reply.started": "2023-03-09T04:41:20.711412Z",
          "shell.execute_reply": "2023-03-09T04:41:20.722694Z"
        },
        "trusted": true,
        "id": "6YDiE7FSsqXa",
        "colab": {
          "base_uri": "https://localhost:8080/"
        },
        "outputId": "c0e9f690-7eed-4f2d-d7cd-3f9a034e344c"
      },
      "execution_count": 49,
      "outputs": [
        {
          "output_type": "execute_result",
          "data": {
            "text/plain": [
              "Raúl Campos             18\n",
              " Jan Suter              18\n",
              "Marcus Raboy            14\n",
              "Jay Karas               14\n",
              "Jay Chapman             12\n",
              "                        ..\n",
              " Josh Lowell             1\n",
              "Greg Coolidge            1\n",
              "Owen Egerton             1\n",
              "Sam \"Blitz\" Bazawule     1\n",
              "Onur Ünlü                1\n",
              "Length: 3736, dtype: int64"
            ]
          },
          "metadata": {},
          "execution_count": 49
        }
      ]
    },
    {
      "cell_type": "code",
      "source": [
        "plt.figure(figsize=(13,7))\n",
        "sns.countplot(y = director, order=director.value_counts().index[:10], palette='Pastel1')\n",
        "plt.title('Top 10 Director Based on The Number of Titles')\n",
        "plt.show()"
      ],
      "metadata": {
        "execution": {
          "iopub.status.busy": "2023-03-09T04:43:47.167794Z",
          "iopub.execute_input": "2023-03-09T04:43:47.168599Z",
          "iopub.status.idle": "2023-03-09T04:43:47.438165Z",
          "shell.execute_reply.started": "2023-03-09T04:43:47.168553Z",
          "shell.execute_reply": "2023-03-09T04:43:47.437083Z"
        },
        "trusted": true,
        "id": "WBynXAqnsqXc",
        "colab": {
          "base_uri": "https://localhost:8080/",
          "height": 458
        },
        "outputId": "2161f06d-bdda-40e1-d1ab-d56363a68b26"
      },
      "execution_count": 52,
      "outputs": [
        {
          "output_type": "display_data",
          "data": {
            "text/plain": [
              "<Figure size 936x504 with 1 Axes>"
            ],
            "image/png": "[encoded data removed]"
          },
          "metadata": {
            "needs_background": "light"
          }
        }
      ]
    },
    {
      "cell_type": "markdown",
      "source": [
        "Look at this visualization\n",
        "\n",
        "we will saw it's match with out count (Of course!)\n",
        "Lowest is '1' and Highest is '22'"
      ],
      "metadata": {
        "id": "h8CJGO-Z4SXP"
      }
    },
    {
      "cell_type": "code",
      "source": [
        "#df for TV shows and Movies\n",
        "tv_shows = data[data.type == 'TV Show'].copy()\n",
        "movie = data[data.type == 'Movie'].copy()"
      ],
      "metadata": {
        "execution": {
          "iopub.status.busy": "2023-03-09T04:53:07.038071Z",
          "iopub.execute_input": "2023-03-09T04:53:07.038484Z",
          "iopub.status.idle": "2023-03-09T04:53:07.052074Z",
          "shell.execute_reply.started": "2023-03-09T04:53:07.038446Z",
          "shell.execute_reply": "2023-03-09T04:53:07.051029Z"
        },
        "trusted": true,
        "id": "_3VxdfSmsqXe"
      },
      "execution_count": 53,
      "outputs": []
    },
    {
      "cell_type": "code",
      "source": [
        "tv_shows['cast'].value_counts()"
      ],
      "metadata": {
        "execution": {
          "iopub.status.busy": "2023-03-09T04:56:41.056919Z",
          "iopub.execute_input": "2023-03-09T04:56:41.057685Z",
          "iopub.status.idle": "2023-03-09T04:56:41.070563Z",
          "shell.execute_reply.started": "2023-03-09T04:56:41.057636Z",
          "shell.execute_reply": "2023-03-09T04:56:41.069288Z"
        },
        "trusted": true,
        "id": "1QXFWy4zsqXf",
        "colab": {
          "base_uri": "https://localhost:8080/"
        },
        "outputId": "430b5ee6-fd1c-4160-8e6c-28824f7683df"
      },
      "execution_count": 54,
      "outputs": [
        {
          "output_type": "execute_result",
          "data": {
            "text/plain": [
              "David Attenborough                                                                                                                                                                                                                                                                                                                                                                                                                                                 14\n",
              "Michela Luci, Jamie Watson, Anna Claire Bartlam, Dante Zee, Eric Peterson                                                                                                                                                                                                                                                                                                                                                                                           4\n",
              "Morgan Freeman                                                                                                                                                                                                                                                                                                                                                                                                                                                      2\n",
              "Dave Chappelle                                                                                                                                                                                                                                                                                                                                                                                                                                                      2\n",
              "Monty Don                                                                                                                                                                                                                                                                                                                                                                                                                                                           2\n",
              "                                                                                                                                                                                                                                                                                                                                                                                                                                                                   ..\n",
              "Kelsy Abbott, Antony Del Rio, Jaylen Barron, Matt Berry, Bridget Everett, Brandon Wardell, Steve Agee, Spencer Rothbell, Nick Sumida, Ashley Boettcher, Wade Randolph                                                                                                                                                                                                                                                                                               1\n",
              "Robert Jack, Susanna Herbert, Ben Cartwright, Oliver Dimsdale, Gavin Mitchell, Elsie Bennett, Bernice Stegers                                                                                                                                                                                                                                                                                                                                                       1\n",
              "Rahman, Havish, Regina Cassandra, Nandita Swetha, Anisha Ambrose, Tridha Choudhury, Pujitha Ponnada, Aditi Arya                                                                                                                                                                                                                                                                                                                                                     1\n",
              "Elizabeth Banks, Lake Bell, H. Jon Benjamin, Michael Ian Black, Michael Cera, Josh Charles, Bradley Cooper, Judah Friedlander, Janeane Garofalo, Jon Hamm, Nina Hellman, Joe Lo Truglio, Ken Marino, Christopher Meloni, A.D. Miles, Marguerite Moreau, Zak Orth, Jordan Peele, David Hyde Pierce, Chris Pine, Amy Poehler, Paul Rudd, Marisa Ryan, Jason Schwartzman, Molly Shannon, Michael Showalter, John Slattery, Kevin Sussman, David Wain, Kristen Wiig     1\n",
              "Jennifer Aniston, Courteney Cox, Lisa Kudrow, Matt LeBlanc, Matthew Perry, David Schwimmer                                                                                                                                                                                                                                                                                                                                                                          1\n",
              "Name: cast, Length: 1726, dtype: int64"
            ]
          },
          "metadata": {},
          "execution_count": 54
        }
      ]
    },
    {
      "cell_type": "code",
      "source": [
        "movie['cast'].value_counts()"
      ],
      "metadata": {
        "execution": {
          "iopub.status.busy": "2023-03-09T04:56:25.836858Z",
          "iopub.execute_input": "2023-03-09T04:56:25.837255Z",
          "iopub.status.idle": "2023-03-09T04:56:25.849129Z",
          "shell.execute_reply.started": "2023-03-09T04:56:25.837219Z",
          "shell.execute_reply": "2023-03-09T04:56:25.848195Z"
        },
        "trusted": true,
        "id": "AB68IgDWsqXf",
        "colab": {
          "base_uri": "https://localhost:8080/"
        },
        "outputId": "373628fe-6962-4849-9fea-106c474a2080"
      },
      "execution_count": 55,
      "outputs": [
        {
          "output_type": "execute_result",
          "data": {
            "text/plain": [
              "Samuel West                                                                                                                                     10\n",
              "Jeff Dunham                                                                                                                                      7\n",
              "Craig Sechler                                                                                                                                    6\n",
              "Bill Burr                                                                                                                                        5\n",
              "Jim Gaffigan                                                                                                                                     5\n",
              "                                                                                                                                                ..\n",
              "Paco León, Alexandra Jiménez, Rossy de Palma, Nuria Herrero, Adrián Lastra, Oscar Martínez, Inma Cuevas, Ana Rujas, Carolina Lapausa             1\n",
              "Michael Gross, Jamie Kennedy, Tanya van Graan, Jamie-Lee Money, Stephanie Schildknecht, Greg Kriek, Jenna Upton, Jay Anstey, Christie Peruso     1\n",
              "Naseeruddin Shah, Kalki Koechlin, Rajat Kapoor, Rajeev Ravindranathan, Ratnabali Bhattacharjee, Suhasini, Arjun Mathur                           1\n",
              "Aaron Keogh, Molly Reisman, Dean Tardioli, Greg Wasylyszn, Adrian Murray, Kelly Paoli, Earl Oliveros, Hallie Burt                                1\n",
              "Jeremy Scott                                                                                                                                     1\n",
              "Name: cast, Length: 3763, dtype: int64"
            ]
          },
          "metadata": {},
          "execution_count": 55
        }
      ]
    },
    {
      "cell_type": "code",
      "source": [
        "# then use same method that's we use in Director name split\n",
        "cast_tv = tv_shows[tv_shows.cast!='No Data'].set_index('title').cast.str.split(\",\",expand=True).stack().reset_index(level=1,drop=True)\n",
        "cast_m = movie[movie.cast!='No Data'].set_index('title').cast.str.split(\",\",expand=True).stack().reset_index(level=1,drop=True)"
      ],
      "metadata": {
        "execution": {
          "iopub.status.busy": "2023-03-09T04:59:54.012793Z",
          "iopub.execute_input": "2023-03-09T04:59:54.013616Z",
          "iopub.status.idle": "2023-03-09T04:59:54.091179Z",
          "shell.execute_reply.started": "2023-03-09T04:59:54.013567Z",
          "shell.execute_reply": "2023-03-09T04:59:54.090157Z"
        },
        "trusted": true,
        "id": "3QJfDZMnsqXg"
      },
      "execution_count": 57,
      "outputs": []
    },
    {
      "cell_type": "code",
      "source": [
        "# Count Cast that play TV Show \n",
        "cast_tv.value_counts()"
      ],
      "metadata": {
        "execution": {
          "iopub.status.busy": "2023-03-09T05:00:40.77043Z",
          "iopub.execute_input": "2023-03-09T05:00:40.771146Z",
          "iopub.status.idle": "2023-03-09T05:00:40.790697Z",
          "shell.execute_reply.started": "2023-03-09T05:00:40.771105Z",
          "shell.execute_reply": "2023-03-09T05:00:40.789628Z"
        },
        "trusted": true,
        "id": "7VBekIj9sqXg",
        "colab": {
          "base_uri": "https://localhost:8080/"
        },
        "outputId": "d2bc9475-c1a3-4fb9-ed00-43aefb029cb5"
      },
      "execution_count": 58,
      "outputs": [
        {
          "output_type": "execute_result",
          "data": {
            "text/plain": [
              " Takahiro Sakurai         18\n",
              "David Attenborough        14\n",
              " Yuki Kaji                14\n",
              " Tomokazu Sugita          12\n",
              " Ai Kayano                11\n",
              "                          ..\n",
              " Anne-Laure Vandeputte     1\n",
              " Dirk Roofthooft           1\n",
              " Anemone Valcke            1\n",
              "Mandy Wei                  1\n",
              " Matthew Perry             1\n",
              "Length: 11870, dtype: int64"
            ]
          },
          "metadata": {},
          "execution_count": 58
        }
      ]
    },
    {
      "cell_type": "code",
      "source": [
        "# Count Cast that play Movie\n",
        "cast_m.value_counts()"
      ],
      "metadata": {
        "execution": {
          "iopub.status.busy": "2023-03-09T05:01:35.476275Z",
          "iopub.execute_input": "2023-03-09T05:01:35.476699Z",
          "iopub.status.idle": "2023-03-09T05:01:35.501882Z",
          "shell.execute_reply.started": "2023-03-09T05:01:35.476662Z",
          "shell.execute_reply": "2023-03-09T05:01:35.50107Z"
        },
        "trusted": true,
        "id": "UB1mJ1Y0sqXg",
        "colab": {
          "base_uri": "https://localhost:8080/"
        },
        "outputId": "d5cd5d3d-4b6b-46c2-eb6f-95b8cab20cc3"
      },
      "execution_count": 59,
      "outputs": [
        {
          "output_type": "execute_result",
          "data": {
            "text/plain": [
              " Anupam Kher       29\n",
              " Om Puri           25\n",
              "Shah Rukh Khan     24\n",
              " Boman Irani       23\n",
              " Paresh Rawal      22\n",
              "                   ..\n",
              "Warren Christie     1\n",
              " Lloyd Owen         1\n",
              " Ryan Robbins       1\n",
              "Cheng Pei-pei       1\n",
              "Jeremy Scott        1\n",
              "Length: 20165, dtype: int64"
            ]
          },
          "metadata": {},
          "execution_count": 59
        }
      ]
    },
    {
      "cell_type": "code",
      "source": [
        "plt.figure(figsize=(13,7))\n",
        "sns.countplot(y = cast_tv, order=cast_tv.value_counts().index[:10], palette='Pastel1')\n",
        "plt.title('Top 10 Cast of TV Shows Based on The Number of Titles')\n",
        "plt.show()"
      ],
      "metadata": {
        "execution": {
          "iopub.status.busy": "2023-03-09T05:04:20.046795Z",
          "iopub.execute_input": "2023-03-09T05:04:20.047654Z",
          "iopub.status.idle": "2023-03-09T05:04:20.497444Z",
          "shell.execute_reply.started": "2023-03-09T05:04:20.047606Z",
          "shell.execute_reply": "2023-03-09T05:04:20.4963Z"
        },
        "trusted": true,
        "id": "oQqxRGMMsqXh",
        "colab": {
          "base_uri": "https://localhost:8080/",
          "height": 458
        },
        "outputId": "b153b0c4-a34b-4710-fbaf-e91eb08778d8"
      },
      "execution_count": 61,
      "outputs": [
        {
          "output_type": "display_data",
          "data": {
            "text/plain": [
              "<Figure size 936x504 with 1 Axes>"
            ],
            "image/png": "[encoded data removed]"
          },
          "metadata": {
            "needs_background": "light"
          }
        }
      ]
    },
    {
      "cell_type": "code",
      "source": [
        "plt.figure(figsize=(13,7))\n",
        "sns.countplot(y = cast_m, order=cast_m.value_counts().index[:10], palette='Pastel1')\n",
        "plt.title('Top 10 Movie Actors Based on The Number of Titles')\n",
        "plt.show()"
      ],
      "metadata": {
        "execution": {
          "iopub.status.busy": "2023-03-09T05:03:46.778496Z",
          "iopub.execute_input": "2023-03-09T05:03:46.779536Z",
          "iopub.status.idle": "2023-03-09T05:03:47.141955Z",
          "shell.execute_reply.started": "2023-03-09T05:03:46.779487Z",
          "shell.execute_reply": "2023-03-09T05:03:47.140867Z"
        },
        "trusted": true,
        "id": "_oOtXQSEsqXh",
        "colab": {
          "base_uri": "https://localhost:8080/",
          "height": 458
        },
        "outputId": "2419b2f6-dc59-4190-d802-0a4ac6a16ced"
      },
      "execution_count": 62,
      "outputs": [
        {
          "output_type": "display_data",
          "data": {
            "text/plain": [
              "<Figure size 936x504 with 1 Axes>"
            ],
            "image/png": "[encoded data removed]"
          },
          "metadata": {
            "needs_background": "light"
          }
        }
      ]
    },
    {
      "cell_type": "markdown",
      "source": [
        "Yeah , Now we have Top 10 Case of TV Show and Movie , because we don't have Cast Country Attribute , then all we can do is guest by name\n",
        "\n",
        "First Look like Most Cast on TV Show side are 'ASIAN'\n",
        "And Most Case on Movie are 'India' Judge by the name"
      ],
      "metadata": {
        "id": "8JdKci5W4awH"
      }
    },
    {
      "cell_type": "code",
      "source": [
        "# let's check on Dataframe first\n",
        "movie.head()"
      ],
      "metadata": {
        "execution": {
          "iopub.status.busy": "2023-03-09T05:15:44.446585Z",
          "iopub.execute_input": "2023-03-09T05:15:44.446988Z",
          "iopub.status.idle": "2023-03-09T05:15:44.46846Z",
          "shell.execute_reply.started": "2023-03-09T05:15:44.44695Z",
          "shell.execute_reply": "2023-03-09T05:15:44.467172Z"
        },
        "trusted": true,
        "id": "Z03h7okqsqXi",
        "colab": {
          "base_uri": "https://localhost:8080/",
          "height": 545
        },
        "outputId": "4d4637d3-ea5e-4b88-9aae-c93015cf6533"
      },
      "execution_count": 70,
      "outputs": [
        {
          "output_type": "execute_result",
          "data": {
            "text/plain": [
              "    show_id   type                                    title  \\\n",
              "0  81145628  Movie  Norm of the North: King Sized Adventure   \n",
              "1  80117401  Movie               Jandino: Whatever it Takes   \n",
              "4  80125979  Movie                             #realityhigh   \n",
              "6  70304989  Movie                                 Automata   \n",
              "7  80164077  Movie       Fabrizio Copano: Solo pienso en mi   \n",
              "\n",
              "                          director  \\\n",
              "0         Richard Finn, Tim Maltby   \n",
              "1                              NaN   \n",
              "4                 Fernando Lebrija   \n",
              "6                      Gabe Ibáñez   \n",
              "7  Rodrigo Toro, Francisco Schultz   \n",
              "\n",
              "                                                cast  \\\n",
              "0  Alan Marriott, Andrew Toth, Brian Dobson, Cole...   \n",
              "1                                   Jandino Asporaat   \n",
              "4  Nesta Cooper, Kate Walsh, John Michael Higgins...   \n",
              "6  Antonio Banderas, Dylan McDermott, Melanie Gri...   \n",
              "7                                    Fabrizio Copano   \n",
              "\n",
              "                                    country         date_added  release_year  \\\n",
              "0  United States, India, South Korea, China  September 9, 2019          2019   \n",
              "1                            United Kingdom  September 9, 2016          2016   \n",
              "4                             United States  September 8, 2017          2017   \n",
              "6    Bulgaria, United States, Spain, Canada  September 8, 2017          2014   \n",
              "7                                     Chile  September 8, 2017          2017   \n",
              "\n",
              "  rating  duration                                          listed_in  \\\n",
              "0  TV-PG        90                 Children & Family Movies, Comedies   \n",
              "1  TV-MA        94                                    Stand-Up Comedy   \n",
              "4  TV-14        99                                           Comedies   \n",
              "6      R       110  International Movies, Sci-Fi & Fantasy, Thrillers   \n",
              "7  TV-MA        60                                    Stand-Up Comedy   \n",
              "\n",
              "                                         description  \n",
              "0  Before planning an awesome wedding for his gra...  \n",
              "1  Jandino Asporaat riffs on the challenges of ra...  \n",
              "4  When nerdy high schooler Dani finally attracts...  \n",
              "6  In a dystopian future, an insurance adjuster f...  \n",
              "7  Fabrizio Copano takes audience participation t...  "
            ],
            "text/html": [
              "\n",
              "  <div id=\"df-c949f60c-a71b-4575-b039-2081b66488a0\">\n",
              "    <div class=\"colab-df-container\">\n",
              "      <div>\n",
              "<style scoped>\n",
              "    .dataframe tbody tr th:only-of-type {\n",
              "        vertical-align: middle;\n",
              "    }\n",
              "\n",
              "    .dataframe tbody tr th {\n",
              "        vertical-align: top;\n",
              "    }\n",
              "\n",
              "    .dataframe thead th {\n",
              "        text-align: right;\n",
              "    }\n",
              "</style>\n",
              "<table border=\"1\" class=\"dataframe\">\n",
              "  <thead>\n",
              "    <tr style=\"text-align: right;\">\n",
              "      <th></th>\n",
              "      <th>show_id</th>\n",
              "      <th>type</th>\n",
              "      <th>title</th>\n",
              "      <th>director</th>\n",
              "      <th>cast</th>\n",
              "      <th>country</th>\n",
              "      <th>date_added</th>\n",
              "      <th>release_year</th>\n",
              "      <th>rating</th>\n",
              "      <th>duration</th>\n",
              "      <th>listed_in</th>\n",
              "      <th>description</th>\n",
              "    </tr>\n",
              "  </thead>\n",
              "  <tbody>\n",
              "    <tr>\n",
              "      <th>0</th>\n",
              "      <td>81145628</td>\n",
              "      <td>Movie</td>\n",
              "      <td>Norm of the North: King Sized Adventure</td>\n",
              "      <td>Richard Finn, Tim Maltby</td>\n",
              "      <td>Alan Marriott, Andrew Toth, Brian Dobson, Cole...</td>\n",
              "      <td>United States, India, South Korea, China</td>\n",
              "      <td>September 9, 2019</td>\n",
              "      <td>2019</td>\n",
              "      <td>TV-PG</td>\n",
              "      <td>90</td>\n",
              "      <td>Children &amp; Family Movies, Comedies</td>\n",
              "      <td>Before planning an awesome wedding for his gra...</td>\n",
              "    </tr>\n",
              "    <tr>\n",
              "      <th>1</th>\n",
              "      <td>80117401</td>\n",
              "      <td>Movie</td>\n",
              "      <td>Jandino: Whatever it Takes</td>\n",
              "      <td>NaN</td>\n",
              "      <td>Jandino Asporaat</td>\n",
              "      <td>United Kingdom</td>\n",
              "      <td>September 9, 2016</td>\n",
              "      <td>2016</td>\n",
              "      <td>TV-MA</td>\n",
              "      <td>94</td>\n",
              "      <td>Stand-Up Comedy</td>\n",
              "      <td>Jandino Asporaat riffs on the challenges of ra...</td>\n",
              "    </tr>\n",
              "    <tr>\n",
              "      <th>4</th>\n",
              "      <td>80125979</td>\n",
              "      <td>Movie</td>\n",
              "      <td>#realityhigh</td>\n",
              "      <td>Fernando Lebrija</td>\n",
              "      <td>Nesta Cooper, Kate Walsh, John Michael Higgins...</td>\n",
              "      <td>United States</td>\n",
              "      <td>September 8, 2017</td>\n",
              "      <td>2017</td>\n",
              "      <td>TV-14</td>\n",
              "      <td>99</td>\n",
              "      <td>Comedies</td>\n",
              "      <td>When nerdy high schooler Dani finally attracts...</td>\n",
              "    </tr>\n",
              "    <tr>\n",
              "      <th>6</th>\n",
              "      <td>70304989</td>\n",
              "      <td>Movie</td>\n",
              "      <td>Automata</td>\n",
              "      <td>Gabe Ibáñez</td>\n",
              "      <td>Antonio Banderas, Dylan McDermott, Melanie Gri...</td>\n",
              "      <td>Bulgaria, United States, Spain, Canada</td>\n",
              "      <td>September 8, 2017</td>\n",
              "      <td>2014</td>\n",
              "      <td>R</td>\n",
              "      <td>110</td>\n",
              "      <td>International Movies, Sci-Fi &amp; Fantasy, Thrillers</td>\n",
              "      <td>In a dystopian future, an insurance adjuster f...</td>\n",
              "    </tr>\n",
              "    <tr>\n",
              "      <th>7</th>\n",
              "      <td>80164077</td>\n",
              "      <td>Movie</td>\n",
              "      <td>Fabrizio Copano: Solo pienso en mi</td>\n",
              "      <td>Rodrigo Toro, Francisco Schultz</td>\n",
              "      <td>Fabrizio Copano</td>\n",
              "      <td>Chile</td>\n",
              "      <td>September 8, 2017</td>\n",
              "      <td>2017</td>\n",
              "      <td>TV-MA</td>\n",
              "      <td>60</td>\n",
              "      <td>Stand-Up Comedy</td>\n",
              "      <td>Fabrizio Copano takes audience participation t...</td>\n",
              "    </tr>\n",
              "  </tbody>\n",
              "</table>\n",
              "</div>\n",
              "      <button class=\"colab-df-convert\" onclick=\"convertToInteractive('df-c949f60c-a71b-4575-b039-2081b66488a0')\"\n",
              "              title=\"Convert this dataframe to an interactive table.\"\n",
              "              style=\"display:none;\">\n",
              "        \n",
              "  <svg xmlns=\"http://www.w3.org/2000/svg\" height=\"24px\"viewBox=\"0 0 24 24\"\n",
              "       width=\"24px\">\n",
              "    <path d=\"M0 0h24v24H0V0z\" fill=\"none\"/>\n",
              "    <path d=\"M18.56 5.44l.94 2.06.94-2.06 2.06-.94-2.06-.94-.94-2.06-.94 2.06-2.06.94zm-11 1L8.5 8.5l.94-2.06 2.06-.94-2.06-.94L8.5 2.5l-.94 2.06-2.06.94zm10 10l.94 2.06.94-2.06 2.06-.94-2.06-.94-.94-2.06-.94 2.06-2.06.94z\"/><path d=\"M17.41 7.96l-1.37-1.37c-.4-.4-.92-.59-1.43-.59-.52 0-1.04.2-1.43.59L10.3 9.45l-7.72 7.72c-.78.78-.78 2.05 0 2.83L4 21.41c.39.39.9.59 1.41.59.51 0 1.02-.2 1.41-.59l7.78-7.78 2.81-2.81c.8-.78.8-2.07 0-2.86zM5.41 20L4 18.59l7.72-7.72 1.47 1.35L5.41 20z\"/>\n",
              "  </svg>\n",
              "      </button>\n",
              "      \n",
              "  <style>\n",
              "    .colab-df-container {\n",
              "      display:flex;\n",
              "      flex-wrap:wrap;\n",
              "      gap: 12px;\n",
              "    }\n",
              "\n",
              "    .colab-df-convert {\n",
              "      background-color: #E8F0FE;\n",
              "      border: none;\n",
              "      border-radius: 50%;\n",
              "      cursor: pointer;\n",
              "      display: none;\n",
              "      fill: #1967D2;\n",
              "      height: 32px;\n",
              "      padding: 0 0 0 0;\n",
              "      width: 32px;\n",
              "    }\n",
              "\n",
              "    .colab-df-convert:hover {\n",
              "      background-color: #E2EBFA;\n",
              "      box-shadow: 0px 1px 2px rgba(60, 64, 67, 0.3), 0px 1px 3px 1px rgba(60, 64, 67, 0.15);\n",
              "      fill: #174EA6;\n",
              "    }\n",
              "\n",
              "    [theme=dark] .colab-df-convert {\n",
              "      background-color: #3B4455;\n",
              "      fill: #D2E3FC;\n",
              "    }\n",
              "\n",
              "    [theme=dark] .colab-df-convert:hover {\n",
              "      background-color: #434B5C;\n",
              "      box-shadow: 0px 1px 3px 1px rgba(0, 0, 0, 0.15);\n",
              "      filter: drop-shadow(0px 1px 2px rgba(0, 0, 0, 0.3));\n",
              "      fill: #FFFFFF;\n",
              "    }\n",
              "  </style>\n",
              "\n",
              "      <script>\n",
              "        const buttonEl =\n",
              "          document.querySelector('#df-c949f60c-a71b-4575-b039-2081b66488a0 button.colab-df-convert');\n",
              "        buttonEl.style.display =\n",
              "          google.colab.kernel.accessAllowed ? 'block' : 'none';\n",
              "\n",
              "        async function convertToInteractive(key) {\n",
              "          const element = document.querySelector('#df-c949f60c-a71b-4575-b039-2081b66488a0');\n",
              "          const dataTable =\n",
              "            await google.colab.kernel.invokeFunction('convertToInteractive',\n",
              "                                                     [key], {});\n",
              "          if (!dataTable) return;\n",
              "\n",
              "          const docLinkHtml = 'Like what you see? Visit the ' +\n",
              "            '<a target=\"_blank\" href=https://colab.research.google.com/notebooks/data_table.ipynb>data table notebook</a>'\n",
              "            + ' to learn more about interactive tables.';\n",
              "          element.innerHTML = '';\n",
              "          dataTable['output_type'] = 'display_data';\n",
              "          await google.colab.output.renderOutput(dataTable, element);\n",
              "          const docLink = document.createElement('div');\n",
              "          docLink.innerHTML = docLinkHtml;\n",
              "          element.appendChild(docLink);\n",
              "        }\n",
              "      </script>\n",
              "    </div>\n",
              "  </div>\n",
              "  "
            ]
          },
          "metadata": {},
          "execution_count": 70
        }
      ]
    },
    {
      "cell_type": "code",
      "source": [
        "# let's count movie duration\n",
        "movie['duration'].value_counts()"
      ],
      "metadata": {
        "execution": {
          "iopub.status.busy": "2023-03-09T05:18:43.653284Z",
          "iopub.execute_input": "2023-03-09T05:18:43.65381Z",
          "iopub.status.idle": "2023-03-09T05:18:43.66708Z",
          "shell.execute_reply.started": "2023-03-09T05:18:43.653759Z",
          "shell.execute_reply": "2023-03-09T05:18:43.665077Z"
        },
        "trusted": true,
        "id": "mhwyyfJtsqXi",
        "colab": {
          "base_uri": "https://localhost:8080/"
        },
        "outputId": "b5477db6-38cc-4b4e-fc68-20a2b6afe9de"
      },
      "execution_count": 71,
      "outputs": [
        {
          "output_type": "execute_result",
          "data": {
            "text/plain": [
              "90     111\n",
              "91     104\n",
              "92     101\n",
              "95      94\n",
              "94      94\n",
              "      ... \n",
              "205      1\n",
              "37       1\n",
              "182      1\n",
              "201      1\n",
              "195      1\n",
              "Name: duration, Length: 186, dtype: int64"
            ]
          },
          "metadata": {},
          "execution_count": 71
        }
      ]
    },
    {
      "cell_type": "code",
      "source": [
        "tv_shows.head()"
      ],
      "metadata": {
        "execution": {
          "iopub.status.busy": "2023-03-09T05:16:54.712933Z",
          "iopub.execute_input": "2023-03-09T05:16:54.713449Z",
          "iopub.status.idle": "2023-03-09T05:16:54.735665Z",
          "shell.execute_reply.started": "2023-03-09T05:16:54.713392Z",
          "shell.execute_reply": "2023-03-09T05:16:54.734445Z"
        },
        "trusted": true,
        "id": "I-nTAP1TsqXi",
        "colab": {
          "base_uri": "https://localhost:8080/",
          "height": 510
        },
        "outputId": "e8215995-6a6f-4773-8cc0-c47b14a5d65f"
      },
      "execution_count": 72,
      "outputs": [
        {
          "output_type": "execute_result",
          "data": {
            "text/plain": [
              "     show_id     type                             title director  \\\n",
              "2   70234439  TV Show                Transformers Prime      NaN   \n",
              "3   80058654  TV Show  Transformers: Robots in Disguise      NaN   \n",
              "5   80163890  TV Show                           Apaches      NaN   \n",
              "8   80117902  TV Show                      Fire Chasers      NaN   \n",
              "26  80244601  TV Show                   Castle of Stars      NaN   \n",
              "\n",
              "                                                 cast        country  \\\n",
              "2   Peter Cullen, Sumalee Montano, Frank Welker, J...  United States   \n",
              "3   Will Friedle, Darren Criss, Constance Zimmer, ...  United States   \n",
              "5   Alberto Ammann, Eloy Azorín, Verónica Echegui,...          Spain   \n",
              "8                                                 NaN  United States   \n",
              "26  Chaiyapol Pupart, Jintanutda Lummakanon, Worra...            NaN   \n",
              "\n",
              "           date_added  release_year    rating season  \\\n",
              "2   September 8, 2018          2013  TV-Y7-FV      1   \n",
              "3   September 8, 2018          2016     TV-Y7      1   \n",
              "5   September 8, 2017          2016     TV-MA      1   \n",
              "8   September 8, 2017          2017     TV-MA      1   \n",
              "26  September 7, 2018          2015     TV-14      1   \n",
              "\n",
              "                                            listed_in  \\\n",
              "2                                            Kids' TV   \n",
              "3                                            Kids' TV   \n",
              "5   Crime TV Shows, International TV Shows, Spanis...   \n",
              "8                     Docuseries, Science & Nature TV   \n",
              "26  International TV Shows, Romantic TV Shows, TV ...   \n",
              "\n",
              "                                          description  \n",
              "2   With the help of three human allies, the Autob...  \n",
              "3   When a prison ship crash unleashes hundreds of...  \n",
              "5   A young journalist is forced into a life of cr...  \n",
              "8   As California's 2016 fire season rages, brave ...  \n",
              "26  As four couples with different lifestyles go t...  "
            ],
            "text/html": [
              "\n",
              "  <div id=\"df-e476dbb4-6d71-4088-96ed-27c80367a2a7\">\n",
              "    <div class=\"colab-df-container\">\n",
              "      <div>\n",
              "<style scoped>\n",
              "    .dataframe tbody tr th:only-of-type {\n",
              "        vertical-align: middle;\n",
              "    }\n",
              "\n",
              "    .dataframe tbody tr th {\n",
              "        vertical-align: top;\n",
              "    }\n",
              "\n",
              "    .dataframe thead th {\n",
              "        text-align: right;\n",
              "    }\n",
              "</style>\n",
              "<table border=\"1\" class=\"dataframe\">\n",
              "  <thead>\n",
              "    <tr style=\"text-align: right;\">\n",
              "      <th></th>\n",
              "      <th>show_id</th>\n",
              "      <th>type</th>\n",
              "      <th>title</th>\n",
              "      <th>director</th>\n",
              "      <th>cast</th>\n",
              "      <th>country</th>\n",
              "      <th>date_added</th>\n",
              "      <th>release_year</th>\n",
              "      <th>rating</th>\n",
              "      <th>season</th>\n",
              "      <th>listed_in</th>\n",
              "      <th>description</th>\n",
              "    </tr>\n",
              "  </thead>\n",
              "  <tbody>\n",
              "    <tr>\n",
              "      <th>2</th>\n",
              "      <td>70234439</td>\n",
              "      <td>TV Show</td>\n",
              "      <td>Transformers Prime</td>\n",
              "      <td>NaN</td>\n",
              "      <td>Peter Cullen, Sumalee Montano, Frank Welker, J...</td>\n",
              "      <td>United States</td>\n",
              "      <td>September 8, 2018</td>\n",
              "      <td>2013</td>\n",
              "      <td>TV-Y7-FV</td>\n",
              "      <td>1</td>\n",
              "      <td>Kids' TV</td>\n",
              "      <td>With the help of three human allies, the Autob...</td>\n",
              "    </tr>\n",
              "    <tr>\n",
              "      <th>3</th>\n",
              "      <td>80058654</td>\n",
              "      <td>TV Show</td>\n",
              "      <td>Transformers: Robots in Disguise</td>\n",
              "      <td>NaN</td>\n",
              "      <td>Will Friedle, Darren Criss, Constance Zimmer, ...</td>\n",
              "      <td>United States</td>\n",
              "      <td>September 8, 2018</td>\n",
              "      <td>2016</td>\n",
              "      <td>TV-Y7</td>\n",
              "      <td>1</td>\n",
              "      <td>Kids' TV</td>\n",
              "      <td>When a prison ship crash unleashes hundreds of...</td>\n",
              "    </tr>\n",
              "    <tr>\n",
              "      <th>5</th>\n",
              "      <td>80163890</td>\n",
              "      <td>TV Show</td>\n",
              "      <td>Apaches</td>\n",
              "      <td>NaN</td>\n",
              "      <td>Alberto Ammann, Eloy Azorín, Verónica Echegui,...</td>\n",
              "      <td>Spain</td>\n",
              "      <td>September 8, 2017</td>\n",
              "      <td>2016</td>\n",
              "      <td>TV-MA</td>\n",
              "      <td>1</td>\n",
              "      <td>Crime TV Shows, International TV Shows, Spanis...</td>\n",
              "      <td>A young journalist is forced into a life of cr...</td>\n",
              "    </tr>\n",
              "    <tr>\n",
              "      <th>8</th>\n",
              "      <td>80117902</td>\n",
              "      <td>TV Show</td>\n",
              "      <td>Fire Chasers</td>\n",
              "      <td>NaN</td>\n",
              "      <td>NaN</td>\n",
              "      <td>United States</td>\n",
              "      <td>September 8, 2017</td>\n",
              "      <td>2017</td>\n",
              "      <td>TV-MA</td>\n",
              "      <td>1</td>\n",
              "      <td>Docuseries, Science &amp; Nature TV</td>\n",
              "      <td>As California's 2016 fire season rages, brave ...</td>\n",
              "    </tr>\n",
              "    <tr>\n",
              "      <th>26</th>\n",
              "      <td>80244601</td>\n",
              "      <td>TV Show</td>\n",
              "      <td>Castle of Stars</td>\n",
              "      <td>NaN</td>\n",
              "      <td>Chaiyapol Pupart, Jintanutda Lummakanon, Worra...</td>\n",
              "      <td>NaN</td>\n",
              "      <td>September 7, 2018</td>\n",
              "      <td>2015</td>\n",
              "      <td>TV-14</td>\n",
              "      <td>1</td>\n",
              "      <td>International TV Shows, Romantic TV Shows, TV ...</td>\n",
              "      <td>As four couples with different lifestyles go t...</td>\n",
              "    </tr>\n",
              "  </tbody>\n",
              "</table>\n",
              "</div>\n",
              "      <button class=\"colab-df-convert\" onclick=\"convertToInteractive('df-e476dbb4-6d71-4088-96ed-27c80367a2a7')\"\n",
              "              title=\"Convert this dataframe to an interactive table.\"\n",
              "              style=\"display:none;\">\n",
              "        \n",
              "  <svg xmlns=\"http://www.w3.org/2000/svg\" height=\"24px\"viewBox=\"0 0 24 24\"\n",
              "       width=\"24px\">\n",
              "    <path d=\"M0 0h24v24H0V0z\" fill=\"none\"/>\n",
              "    <path d=\"M18.56 5.44l.94 2.06.94-2.06 2.06-.94-2.06-.94-.94-2.06-.94 2.06-2.06.94zm-11 1L8.5 8.5l.94-2.06 2.06-.94-2.06-.94L8.5 2.5l-.94 2.06-2.06.94zm10 10l.94 2.06.94-2.06 2.06-.94-2.06-.94-.94-2.06-.94 2.06-2.06.94z\"/><path d=\"M17.41 7.96l-1.37-1.37c-.4-.4-.92-.59-1.43-.59-.52 0-1.04.2-1.43.59L10.3 9.45l-7.72 7.72c-.78.78-.78 2.05 0 2.83L4 21.41c.39.39.9.59 1.41.59.51 0 1.02-.2 1.41-.59l7.78-7.78 2.81-2.81c.8-.78.8-2.07 0-2.86zM5.41 20L4 18.59l7.72-7.72 1.47 1.35L5.41 20z\"/>\n",
              "  </svg>\n",
              "      </button>\n",
              "      \n",
              "  <style>\n",
              "    .colab-df-container {\n",
              "      display:flex;\n",
              "      flex-wrap:wrap;\n",
              "      gap: 12px;\n",
              "    }\n",
              "\n",
              "    .colab-df-convert {\n",
              "      background-color: #E8F0FE;\n",
              "      border: none;\n",
              "      border-radius: 50%;\n",
              "      cursor: pointer;\n",
              "      display: none;\n",
              "      fill: #1967D2;\n",
              "      height: 32px;\n",
              "      padding: 0 0 0 0;\n",
              "      width: 32px;\n",
              "    }\n",
              "\n",
              "    .colab-df-convert:hover {\n",
              "      background-color: #E2EBFA;\n",
              "      box-shadow: 0px 1px 2px rgba(60, 64, 67, 0.3), 0px 1px 3px 1px rgba(60, 64, 67, 0.15);\n",
              "      fill: #174EA6;\n",
              "    }\n",
              "\n",
              "    [theme=dark] .colab-df-convert {\n",
              "      background-color: #3B4455;\n",
              "      fill: #D2E3FC;\n",
              "    }\n",
              "\n",
              "    [theme=dark] .colab-df-convert:hover {\n",
              "      background-color: #434B5C;\n",
              "      box-shadow: 0px 1px 3px 1px rgba(0, 0, 0, 0.15);\n",
              "      filter: drop-shadow(0px 1px 2px rgba(0, 0, 0, 0.3));\n",
              "      fill: #FFFFFF;\n",
              "    }\n",
              "  </style>\n",
              "\n",
              "      <script>\n",
              "        const buttonEl =\n",
              "          document.querySelector('#df-e476dbb4-6d71-4088-96ed-27c80367a2a7 button.colab-df-convert');\n",
              "        buttonEl.style.display =\n",
              "          google.colab.kernel.accessAllowed ? 'block' : 'none';\n",
              "\n",
              "        async function convertToInteractive(key) {\n",
              "          const element = document.querySelector('#df-e476dbb4-6d71-4088-96ed-27c80367a2a7');\n",
              "          const dataTable =\n",
              "            await google.colab.kernel.invokeFunction('convertToInteractive',\n",
              "                                                     [key], {});\n",
              "          if (!dataTable) return;\n",
              "\n",
              "          const docLinkHtml = 'Like what you see? Visit the ' +\n",
              "            '<a target=\"_blank\" href=https://colab.research.google.com/notebooks/data_table.ipynb>data table notebook</a>'\n",
              "            + ' to learn more about interactive tables.';\n",
              "          element.innerHTML = '';\n",
              "          dataTable['output_type'] = 'display_data';\n",
              "          await google.colab.output.renderOutput(dataTable, element);\n",
              "          const docLink = document.createElement('div');\n",
              "          docLink.innerHTML = docLinkHtml;\n",
              "          element.appendChild(docLink);\n",
              "        }\n",
              "      </script>\n",
              "    </div>\n",
              "  </div>\n",
              "  "
            ]
          },
          "metadata": {},
          "execution_count": 72
        }
      ]
    },
    {
      "cell_type": "code",
      "source": [
        "# Duration of Movie\n",
        "sns.displot(data=movie,x='duration',bins=100)"
      ],
      "metadata": {
        "execution": {
          "iopub.status.busy": "2023-03-09T05:27:06.909099Z",
          "iopub.execute_input": "2023-03-09T05:27:06.910351Z",
          "iopub.status.idle": "2023-03-09T05:27:07.453338Z",
          "shell.execute_reply.started": "2023-03-09T05:27:06.910268Z",
          "shell.execute_reply": "2023-03-09T05:27:07.451659Z"
        },
        "trusted": true,
        "id": "KdP51I7IsqXk",
        "colab": {
          "base_uri": "https://localhost:8080/",
          "height": 386
        },
        "outputId": "8f6df901-1bae-47cd-a33b-8e93d1cfa193"
      },
      "execution_count": 85,
      "outputs": [
        {
          "output_type": "execute_result",
          "data": {
            "text/plain": [
              "<seaborn.axisgrid.FacetGrid at 0x7f2b785329d0>"
            ]
          },
          "metadata": {},
          "execution_count": 85
        },
        {
          "output_type": "display_data",
          "data": {
            "text/plain": [
              "<Figure size 360x360 with 1 Axes>"
            ],
            "image/png": "[encoded data removed]"
          },
          "metadata": {
            "needs_background": "light"
          }
        }
      ]
    },
    {
      "cell_type": "markdown",
      "source": [
        "Most Duration of Movies is Around 90-97 Mins \n",
        "* 90 min     152\n",
        "* 94 min     146\n",
        "* 93 min     146\n",
        "* 97 min     146\n",
        "* 91 min     144"
      ],
      "metadata": {
        "id": "ICn67MFpsqXk"
      }
    },
    {
      "cell_type": "code",
      "source": [
        "tv_shows['season'].value_counts().plot(kind='bar')"
      ],
      "metadata": {
        "execution": {
          "iopub.status.busy": "2023-03-09T05:28:47.717147Z",
          "iopub.execute_input": "2023-03-09T05:28:47.717547Z",
          "iopub.status.idle": "2023-03-09T05:28:47.9766Z",
          "shell.execute_reply.started": "2023-03-09T05:28:47.717514Z",
          "shell.execute_reply": "2023-03-09T05:28:47.975573Z"
        },
        "trusted": true,
        "id": "tJRLFJYnsqXk",
        "colab": {
          "base_uri": "https://localhost:8080/",
          "height": 285
        },
        "outputId": "50699a5e-1146-48fb-9225-fae575f8f3e4"
      },
      "execution_count": 87,
      "outputs": [
        {
          "output_type": "execute_result",
          "data": {
            "text/plain": [
              "<AxesSubplot:>"
            ]
          },
          "metadata": {},
          "execution_count": 87
        },
        {
          "output_type": "display_data",
          "data": {
            "text/plain": [
              "<Figure size 432x288 with 1 Axes>"
            ],
            "image/png": "[encoded data removed]"
          },
          "metadata": {
            "needs_background": "light"
          }
        }
      ]
    },
    {
      "cell_type": "markdown",
      "source": [
        "Most Season of TV Seasons is 1 Season"
      ],
      "metadata": {
        "id": "K6MHWeT3sqXl"
      }
    },
    {
      "cell_type": "code",
      "source": [
        "data.head()"
      ],
      "metadata": {
        "execution": {
          "iopub.status.busy": "2023-03-09T05:34:43.782425Z",
          "iopub.execute_input": "2023-03-09T05:34:43.782963Z",
          "iopub.status.idle": "2023-03-09T05:34:43.806988Z",
          "shell.execute_reply.started": "2023-03-09T05:34:43.782924Z",
          "shell.execute_reply": "2023-03-09T05:34:43.805435Z"
        },
        "trusted": true,
        "id": "EoBhU_jDsqXl",
        "colab": {
          "base_uri": "https://localhost:8080/",
          "height": 545
        },
        "outputId": "84b5c536-2b24-4549-c8db-e538f88d1b6e"
      },
      "execution_count": 79,
      "outputs": [
        {
          "output_type": "execute_result",
          "data": {
            "text/plain": [
              "    show_id     type                                    title  \\\n",
              "0  81145628    Movie  Norm of the North: King Sized Adventure   \n",
              "1  80117401    Movie               Jandino: Whatever it Takes   \n",
              "2  70234439  TV Show                       Transformers Prime   \n",
              "3  80058654  TV Show         Transformers: Robots in Disguise   \n",
              "4  80125979    Movie                             #realityhigh   \n",
              "\n",
              "                   director  \\\n",
              "0  Richard Finn, Tim Maltby   \n",
              "1                       NaN   \n",
              "2                       NaN   \n",
              "3                       NaN   \n",
              "4          Fernando Lebrija   \n",
              "\n",
              "                                                cast  \\\n",
              "0  Alan Marriott, Andrew Toth, Brian Dobson, Cole...   \n",
              "1                                   Jandino Asporaat   \n",
              "2  Peter Cullen, Sumalee Montano, Frank Welker, J...   \n",
              "3  Will Friedle, Darren Criss, Constance Zimmer, ...   \n",
              "4  Nesta Cooper, Kate Walsh, John Michael Higgins...   \n",
              "\n",
              "                                    country         date_added  release_year  \\\n",
              "0  United States, India, South Korea, China  September 9, 2019          2019   \n",
              "1                            United Kingdom  September 9, 2016          2016   \n",
              "2                             United States  September 8, 2018          2013   \n",
              "3                             United States  September 8, 2018          2016   \n",
              "4                             United States  September 8, 2017          2017   \n",
              "\n",
              "     rating  duration                           listed_in  \\\n",
              "0     TV-PG    90 min  Children & Family Movies, Comedies   \n",
              "1     TV-MA    94 min                     Stand-Up Comedy   \n",
              "2  TV-Y7-FV  1 Season                            Kids' TV   \n",
              "3     TV-Y7  1 Season                            Kids' TV   \n",
              "4     TV-14    99 min                            Comedies   \n",
              "\n",
              "                                         description  \n",
              "0  Before planning an awesome wedding for his gra...  \n",
              "1  Jandino Asporaat riffs on the challenges of ra...  \n",
              "2  With the help of three human allies, the Autob...  \n",
              "3  When a prison ship crash unleashes hundreds of...  \n",
              "4  When nerdy high schooler Dani finally attracts...  "
            ],
            "text/html": [
              "\n",
              "  <div id=\"df-3c949108-d48d-49ed-96f6-fc1d65c2ddad\">\n",
              "    <div class=\"colab-df-container\">\n",
              "      <div>\n",
              "<style scoped>\n",
              "    .dataframe tbody tr th:only-of-type {\n",
              "        vertical-align: middle;\n",
              "    }\n",
              "\n",
              "    .dataframe tbody tr th {\n",
              "        vertical-align: top;\n",
              "    }\n",
              "\n",
              "    .dataframe thead th {\n",
              "        text-align: right;\n",
              "    }\n",
              "</style>\n",
              "<table border=\"1\" class=\"dataframe\">\n",
              "  <thead>\n",
              "    <tr style=\"text-align: right;\">\n",
              "      <th></th>\n",
              "      <th>show_id</th>\n",
              "      <th>type</th>\n",
              "      <th>title</th>\n",
              "      <th>director</th>\n",
              "      <th>cast</th>\n",
              "      <th>country</th>\n",
              "      <th>date_added</th>\n",
              "      <th>release_year</th>\n",
              "      <th>rating</th>\n",
              "      <th>duration</th>\n",
              "      <th>listed_in</th>\n",
              "      <th>description</th>\n",
              "    </tr>\n",
              "  </thead>\n",
              "  <tbody>\n",
              "    <tr>\n",
              "      <th>0</th>\n",
              "      <td>81145628</td>\n",
              "      <td>Movie</td>\n",
              "      <td>Norm of the North: King Sized Adventure</td>\n",
              "      <td>Richard Finn, Tim Maltby</td>\n",
              "      <td>Alan Marriott, Andrew Toth, Brian Dobson, Cole...</td>\n",
              "      <td>United States, India, South Korea, China</td>\n",
              "      <td>September 9, 2019</td>\n",
              "      <td>2019</td>\n",
              "      <td>TV-PG</td>\n",
              "      <td>90 min</td>\n",
              "      <td>Children &amp; Family Movies, Comedies</td>\n",
              "      <td>Before planning an awesome wedding for his gra...</td>\n",
              "    </tr>\n",
              "    <tr>\n",
              "      <th>1</th>\n",
              "      <td>80117401</td>\n",
              "      <td>Movie</td>\n",
              "      <td>Jandino: Whatever it Takes</td>\n",
              "      <td>NaN</td>\n",
              "      <td>Jandino Asporaat</td>\n",
              "      <td>United Kingdom</td>\n",
              "      <td>September 9, 2016</td>\n",
              "      <td>2016</td>\n",
              "      <td>TV-MA</td>\n",
              "      <td>94 min</td>\n",
              "      <td>Stand-Up Comedy</td>\n",
              "      <td>Jandino Asporaat riffs on the challenges of ra...</td>\n",
              "    </tr>\n",
              "    <tr>\n",
              "      <th>2</th>\n",
              "      <td>70234439</td>\n",
              "      <td>TV Show</td>\n",
              "      <td>Transformers Prime</td>\n",
              "      <td>NaN</td>\n",
              "      <td>Peter Cullen, Sumalee Montano, Frank Welker, J...</td>\n",
              "      <td>United States</td>\n",
              "      <td>September 8, 2018</td>\n",
              "      <td>2013</td>\n",
              "      <td>TV-Y7-FV</td>\n",
              "      <td>1 Season</td>\n",
              "      <td>Kids' TV</td>\n",
              "      <td>With the help of three human allies, the Autob...</td>\n",
              "    </tr>\n",
              "    <tr>\n",
              "      <th>3</th>\n",
              "      <td>80058654</td>\n",
              "      <td>TV Show</td>\n",
              "      <td>Transformers: Robots in Disguise</td>\n",
              "      <td>NaN</td>\n",
              "      <td>Will Friedle, Darren Criss, Constance Zimmer, ...</td>\n",
              "      <td>United States</td>\n",
              "      <td>September 8, 2018</td>\n",
              "      <td>2016</td>\n",
              "      <td>TV-Y7</td>\n",
              "      <td>1 Season</td>\n",
              "      <td>Kids' TV</td>\n",
              "      <td>When a prison ship crash unleashes hundreds of...</td>\n",
              "    </tr>\n",
              "    <tr>\n",
              "      <th>4</th>\n",
              "      <td>80125979</td>\n",
              "      <td>Movie</td>\n",
              "      <td>#realityhigh</td>\n",
              "      <td>Fernando Lebrija</td>\n",
              "      <td>Nesta Cooper, Kate Walsh, John Michael Higgins...</td>\n",
              "      <td>United States</td>\n",
              "      <td>September 8, 2017</td>\n",
              "      <td>2017</td>\n",
              "      <td>TV-14</td>\n",
              "      <td>99 min</td>\n",
              "      <td>Comedies</td>\n",
              "      <td>When nerdy high schooler Dani finally attracts...</td>\n",
              "    </tr>\n",
              "  </tbody>\n",
              "</table>\n",
              "</div>\n",
              "      <button class=\"colab-df-convert\" onclick=\"convertToInteractive('df-3c949108-d48d-49ed-96f6-fc1d65c2ddad')\"\n",
              "              title=\"Convert this dataframe to an interactive table.\"\n",
              "              style=\"display:none;\">\n",
              "        \n",
              "  <svg xmlns=\"http://www.w3.org/2000/svg\" height=\"24px\"viewBox=\"0 0 24 24\"\n",
              "       width=\"24px\">\n",
              "    <path d=\"M0 0h24v24H0V0z\" fill=\"none\"/>\n",
              "    <path d=\"M18.56 5.44l.94 2.06.94-2.06 2.06-.94-2.06-.94-.94-2.06-.94 2.06-2.06.94zm-11 1L8.5 8.5l.94-2.06 2.06-.94-2.06-.94L8.5 2.5l-.94 2.06-2.06.94zm10 10l.94 2.06.94-2.06 2.06-.94-2.06-.94-.94-2.06-.94 2.06-2.06.94z\"/><path d=\"M17.41 7.96l-1.37-1.37c-.4-.4-.92-.59-1.43-.59-.52 0-1.04.2-1.43.59L10.3 9.45l-7.72 7.72c-.78.78-.78 2.05 0 2.83L4 21.41c.39.39.9.59 1.41.59.51 0 1.02-.2 1.41-.59l7.78-7.78 2.81-2.81c.8-.78.8-2.07 0-2.86zM5.41 20L4 18.59l7.72-7.72 1.47 1.35L5.41 20z\"/>\n",
              "  </svg>\n",
              "      </button>\n",
              "      \n",
              "  <style>\n",
              "    .colab-df-container {\n",
              "      display:flex;\n",
              "      flex-wrap:wrap;\n",
              "      gap: 12px;\n",
              "    }\n",
              "\n",
              "    .colab-df-convert {\n",
              "      background-color: #E8F0FE;\n",
              "      border: none;\n",
              "      border-radius: 50%;\n",
              "      cursor: pointer;\n",
              "      display: none;\n",
              "      fill: #1967D2;\n",
              "      height: 32px;\n",
              "      padding: 0 0 0 0;\n",
              "      width: 32px;\n",
              "    }\n",
              "\n",
              "    .colab-df-convert:hover {\n",
              "      background-color: #E2EBFA;\n",
              "      box-shadow: 0px 1px 2px rgba(60, 64, 67, 0.3), 0px 1px 3px 1px rgba(60, 64, 67, 0.15);\n",
              "      fill: #174EA6;\n",
              "    }\n",
              "\n",
              "    [theme=dark] .colab-df-convert {\n",
              "      background-color: #3B4455;\n",
              "      fill: #D2E3FC;\n",
              "    }\n",
              "\n",
              "    [theme=dark] .colab-df-convert:hover {\n",
              "      background-color: #434B5C;\n",
              "      box-shadow: 0px 1px 3px 1px rgba(0, 0, 0, 0.15);\n",
              "      filter: drop-shadow(0px 1px 2px rgba(0, 0, 0, 0.3));\n",
              "      fill: #FFFFFF;\n",
              "    }\n",
              "  </style>\n",
              "\n",
              "      <script>\n",
              "        const buttonEl =\n",
              "          document.querySelector('#df-3c949108-d48d-49ed-96f6-fc1d65c2ddad button.colab-df-convert');\n",
              "        buttonEl.style.display =\n",
              "          google.colab.kernel.accessAllowed ? 'block' : 'none';\n",
              "\n",
              "        async function convertToInteractive(key) {\n",
              "          const element = document.querySelector('#df-3c949108-d48d-49ed-96f6-fc1d65c2ddad');\n",
              "          const dataTable =\n",
              "            await google.colab.kernel.invokeFunction('convertToInteractive',\n",
              "                                                     [key], {});\n",
              "          if (!dataTable) return;\n",
              "\n",
              "          const docLinkHtml = 'Like what you see? Visit the ' +\n",
              "            '<a target=\"_blank\" href=https://colab.research.google.com/notebooks/data_table.ipynb>data table notebook</a>'\n",
              "            + ' to learn more about interactive tables.';\n",
              "          element.innerHTML = '';\n",
              "          dataTable['output_type'] = 'display_data';\n",
              "          await google.colab.output.renderOutput(dataTable, element);\n",
              "          const docLink = document.createElement('div');\n",
              "          docLink.innerHTML = docLinkHtml;\n",
              "          element.appendChild(docLink);\n",
              "        }\n",
              "      </script>\n",
              "    </div>\n",
              "  </div>\n",
              "  "
            ]
          },
          "metadata": {},
          "execution_count": 79
        }
      ]
    },
    {
      "cell_type": "code",
      "source": [
        "# Let's split word for Analysing genre of content by create new dataframe\n",
        "genre = data.set_index('title').listed_in.str.split(\",\",expand=True).stack().reset_index(level=1,drop=True)\n",
        "# set-index to 'title'\n",
        "# column 'listed_in' split word in side them (same case as director and cast)"
      ],
      "metadata": {
        "execution": {
          "iopub.status.busy": "2023-03-09T05:36:27.616895Z",
          "iopub.execute_input": "2023-03-09T05:36:27.617284Z",
          "iopub.status.idle": "2023-03-09T05:36:27.65077Z",
          "shell.execute_reply.started": "2023-03-09T05:36:27.617249Z",
          "shell.execute_reply": "2023-03-09T05:36:27.649798Z"
        },
        "trusted": true,
        "id": "nWe2vg6asqXl"
      },
      "execution_count": 80,
      "outputs": []
    },
    {
      "cell_type": "code",
      "source": [
        "# Let's take a look at new dataframe\n",
        "genre.head()"
      ],
      "metadata": {
        "execution": {
          "iopub.status.busy": "2023-03-09T05:37:28.233758Z",
          "iopub.execute_input": "2023-03-09T05:37:28.234129Z",
          "iopub.status.idle": "2023-03-09T05:37:28.242254Z",
          "shell.execute_reply.started": "2023-03-09T05:37:28.234096Z",
          "shell.execute_reply": "2023-03-09T05:37:28.241384Z"
        },
        "trusted": true,
        "id": "9caLL6NfsqXm",
        "colab": {
          "base_uri": "https://localhost:8080/"
        },
        "outputId": "529d5c22-75f7-4b22-c18a-94ffe13929a0"
      },
      "execution_count": 81,
      "outputs": [
        {
          "output_type": "execute_result",
          "data": {
            "text/plain": [
              "title\n",
              "Norm of the North: King Sized Adventure    Children & Family Movies\n",
              "Norm of the North: King Sized Adventure                    Comedies\n",
              "Jandino: Whatever it Takes                          Stand-Up Comedy\n",
              "Transformers Prime                                         Kids' TV\n",
              "Transformers: Robots in Disguise                           Kids' TV\n",
              "dtype: object"
            ]
          },
          "metadata": {},
          "execution_count": 81
        }
      ]
    },
    {
      "cell_type": "code",
      "source": [
        "# let's count a little bit\n",
        "genre.value_counts()"
      ],
      "metadata": {
        "execution": {
          "iopub.status.busy": "2023-03-09T05:37:58.911452Z",
          "iopub.execute_input": "2023-03-09T05:37:58.912201Z",
          "iopub.status.idle": "2023-03-09T05:37:58.9232Z",
          "shell.execute_reply.started": "2023-03-09T05:37:58.912162Z",
          "shell.execute_reply": "2023-03-09T05:37:58.922098Z"
        },
        "trusted": true,
        "id": "SF6liTg0sqXm",
        "colab": {
          "base_uri": "https://localhost:8080/"
        },
        "outputId": "a0332d6d-c81d-4d2b-e8ca-5cd98fca481a"
      },
      "execution_count": 82,
      "outputs": [
        {
          "output_type": "execute_result",
          "data": {
            "text/plain": [
              " International Movies        1842\n",
              "Dramas                       1077\n",
              "Comedies                      803\n",
              "Documentaries                 644\n",
              "Action & Adventure            597\n",
              "                             ... \n",
              " Classic & Cult TV              5\n",
              "Romantic Movies                 2\n",
              "Spanish-Language TV Shows       1\n",
              "Sports Movies                   1\n",
              "TV Sci-Fi & Fantasy             1\n",
              "Length: 72, dtype: int64"
            ]
          },
          "metadata": {},
          "execution_count": 82
        }
      ]
    },
    {
      "cell_type": "markdown",
      "source": [
        "> Now we see the number 1 Genre , now let's plot"
      ],
      "metadata": {
        "id": "LJs7sa7jsqXm"
      }
    },
    {
      "cell_type": "code",
      "source": [
        "# Plot only Top 20\n",
        "plt.figure(figsize=(12,6))\n",
        "sns.countplot(y = genre, order=genre.value_counts().index[:20])\n",
        "plt.show()"
      ],
      "metadata": {
        "execution": {
          "iopub.status.busy": "2023-03-09T05:38:56.39692Z",
          "iopub.execute_input": "2023-03-09T05:38:56.39795Z",
          "iopub.status.idle": "2023-03-09T05:38:56.734185Z",
          "shell.execute_reply.started": "2023-03-09T05:38:56.397892Z",
          "shell.execute_reply": "2023-03-09T05:38:56.733053Z"
        },
        "trusted": true,
        "id": "JwnQ_NzjsqXm",
        "colab": {
          "base_uri": "https://localhost:8080/",
          "height": 388
        },
        "outputId": "9b712f95-d454-418f-b5fc-5dd86aca30b2"
      },
      "execution_count": 83,
      "outputs": [
        {
          "output_type": "display_data",
          "data": {
            "text/plain": [
              "<Figure size 864x432 with 1 Axes>"
            ],
            "image/png": "[encoded data removed]"
          },
          "metadata": {
            "needs_background": "light"
          }
        }
      ]
    }
  ]
}